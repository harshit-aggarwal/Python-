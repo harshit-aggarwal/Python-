{
 "cells": [
  {
   "cell_type": "markdown",
   "metadata": {},
   "source": [
    "# DNSC 6211: PROGRAMMING FOR ANALYTICS - SS_7\n",
    "## Introduction to Python\n",
    "### About Python\n",
    "+ Python is programming language\n",
    "+ Interpreted, object-oriented, high level language.\n",
    "+ Java was founded in 1995\n",
    "+ Python was founded in 1989.\n",
    "+ Easiest language available in the market."
   ]
  },
  {
   "cell_type": "code",
   "execution_count": null,
   "metadata": {},
   "outputs": [],
   "source": [
    "from IPython.display import Image\n",
    "display(Image('img/Picture1.jpg', width=500, unconfined=True))"
   ]
  },
  {
   "cell_type": "markdown",
   "metadata": {},
   "source": [
    "## Why Python is popular \n",
    "+ Python is being used to accomplish many tasks, the most important of which are as follows:\n",
    "+ Graphical User Interface (GUI) development\n",
    "+ Scripting web pages\n",
    "+ Database programming\n",
    "+ Prototyping\n",
    "+ Gaming\n",
    "+ Component based programming"
   ]
  },
  {
   "cell_type": "markdown",
   "metadata": {},
   "source": [
    "## Python …………Name\n",
    "+ Python is written in C.\n",
    "+ It was developed by Guido Van Rossum, who is now the Benevolent Director for Life of Python.\n",
    "+ Disclaimer: Python has got nothing to do with pythons or snakes.\n",
    "+ The name of the language comes from the show **“Monty Python’s Flying Circus,” ** which was one of the favorite shows of the developer, Guido van Rossum."
   ]
  },
  {
   "cell_type": "code",
   "execution_count": null,
   "metadata": {},
   "outputs": [],
   "source": [
    "display(Image('img/Picture2.jpg', width=300, unconfined=True))"
   ]
  },
  {
   "cell_type": "code",
   "execution_count": null,
   "metadata": {},
   "outputs": [],
   "source": [
    "#Check the WD"
   ]
  },
  {
   "cell_type": "markdown",
   "metadata": {},
   "source": [
    "## Lets get familiarize with the python IDE - jupyter notebook"
   ]
  },
  {
   "cell_type": "code",
   "execution_count": null,
   "metadata": {},
   "outputs": [],
   "source": [
    "# Task 1: Print your favorite course name:"
   ]
  },
  {
   "cell_type": "code",
   "execution_count": null,
   "metadata": {},
   "outputs": [],
   "source": [
    "# Task 2: Please enter your name and age (User input)"
   ]
  },
  {
   "cell_type": "code",
   "execution_count": null,
   "metadata": {},
   "outputs": [],
   "source": [
    "# Task 3: Repeat task using function\n",
    "## def: Python a function is defined using the def keyword"
   ]
  },
  {
   "cell_type": "code",
   "execution_count": null,
   "metadata": {},
   "outputs": [],
   "source": [
    "# Task 4: temperature conversion—converting temperature from Fahrenheit to Celsius\n",
    "# C = (F - 32) * 5/9\n",
    "# F = 98.6"
   ]
  },
  {
   "cell_type": "code",
   "execution_count": null,
   "metadata": {},
   "outputs": [],
   "source": [
    "# Task 5: Using loop print first 5 numbers"
   ]
  },
  {
   "cell_type": "code",
   "execution_count": null,
   "metadata": {},
   "outputs": [],
   "source": [
    "# Task 6: Using loop pring first 10 number with a gap of 2 digit"
   ]
  },
  {
   "cell_type": "code",
   "execution_count": null,
   "metadata": {},
   "outputs": [],
   "source": [
    "# Task 7: Check if the number is greater than other a = 63 and b = 56"
   ]
  },
  {
   "cell_type": "code",
   "execution_count": null,
   "metadata": {},
   "outputs": [],
   "source": [
    "# Task 8 Debug the error of task 7"
   ]
  },
  {
   "cell_type": "code",
   "execution_count": null,
   "metadata": {},
   "outputs": [],
   "source": [
    "# Task 9: Lets play with string,Print first element of \"Hello World\""
   ]
  },
  {
   "cell_type": "code",
   "execution_count": null,
   "metadata": {},
   "outputs": [],
   "source": [
    "# Task 10: Check todays date and time "
   ]
  },
  {
   "cell_type": "markdown",
   "metadata": {},
   "source": [
    "## Lets explore the Async_Material_Folder_01"
   ]
  },
  {
   "cell_type": "markdown",
   "metadata": {},
   "source": [
    "### Simple data types\n",
    "+ Number \n",
    "+ Strings \n",
    "+ Boolean "
   ]
  },
  {
   "cell_type": "code",
   "execution_count": null,
   "metadata": {},
   "outputs": [],
   "source": [
    "#Task 11: Let's create a few numbers\n",
    "v1 = 34\n",
    "v2 = 23.657\n",
    "v3 = 8+54j         # The j represents the imaginary part "
   ]
  },
  {
   "cell_type": "code",
   "execution_count": null,
   "metadata": {},
   "outputs": [],
   "source": [
    "# Task 12: Check out the data types\n",
    "print(type(v1))\n",
    "print(type(v2))\n",
    "print(type(v3))"
   ]
  },
  {
   "cell_type": "code",
   "execution_count": null,
   "metadata": {},
   "outputs": [],
   "source": [
    "# Task 13: Explore string operations using the \"Programming for Analytics\"\n",
    "s1 = \"Programming for Analytics\"\n",
    "print (s1)"
   ]
  },
  {
   "cell_type": "code",
   "execution_count": null,
   "metadata": {},
   "outputs": [],
   "source": [
    "# Task 14: First letter of the string\n",
    "print (s1[0])"
   ]
  },
  {
   "cell_type": "code",
   "execution_count": null,
   "metadata": {},
   "outputs": [],
   "source": [
    "# Task 15: Upper case\n",
    "print (s1.upper())"
   ]
  },
  {
   "cell_type": "code",
   "execution_count": null,
   "metadata": {},
   "outputs": [],
   "source": [
    "# Task 16: Find the letter position in the string\n",
    "print (s1.find('mm'))"
   ]
  },
  {
   "cell_type": "code",
   "execution_count": null,
   "metadata": {},
   "outputs": [],
   "source": [
    "# Task 17: Count the letter occurrence \n",
    "print (s1.count('a'))"
   ]
  },
  {
   "cell_type": "code",
   "execution_count": null,
   "metadata": {},
   "outputs": [],
   "source": [
    "#Task 18: Replace the letter\n",
    "s2 = s1.replace('a', 'Z')\n",
    "print (s2)"
   ]
  },
  {
   "cell_type": "code",
   "execution_count": null,
   "metadata": {},
   "outputs": [],
   "source": [
    "#Task 19: Boolean operations\n",
    "print(10 > 9)\n",
    "#print(10 < 9) "
   ]
  },
  {
   "cell_type": "code",
   "execution_count": null,
   "metadata": {},
   "outputs": [],
   "source": [
    "#Task 20: Replace the letter\n",
    "print(10 == 9)"
   ]
  },
  {
   "cell_type": "markdown",
   "metadata": {},
   "source": [
    "*****************************"
   ]
  },
  {
   "cell_type": "markdown",
   "metadata": {},
   "source": [
    "### Python Compound Data Types\n",
    "+ lists\n",
    "+ tuples\n",
    "+ dictionaries\n",
    "+ sets"
   ]
  },
  {
   "cell_type": "code",
   "execution_count": null,
   "metadata": {},
   "outputs": [],
   "source": [
    "# Task 21: Create a empty list\n",
    "myList = []"
   ]
  },
  {
   "cell_type": "code",
   "execution_count": null,
   "metadata": {},
   "outputs": [],
   "source": [
    "# Task 22: Lets add some elements to the list\n",
    "myList.append('a')\n",
    "myList.append('3')\n",
    "myList.append('a')\n",
    "#+ the append() method adds an item to the end of the list."
   ]
  },
  {
   "cell_type": "code",
   "execution_count": null,
   "metadata": {},
   "outputs": [],
   "source": [
    "# Task 23: Check list\n",
    "print(myList)"
   ]
  },
  {
   "cell_type": "markdown",
   "metadata": {},
   "source": [
    "### Task for you post on discussion blog 01\n",
    "+ Create a list of your fav movies and  Return the name third, fourth, and fifth movies:"
   ]
  },
  {
   "cell_type": "code",
   "execution_count": null,
   "metadata": {},
   "outputs": [],
   "source": [
    "# Task 24: Create a tuple\n",
    "myTuple = (\"34\", 33, False, 33, 45.6)\n",
    "print(myTuple)"
   ]
  },
  {
   "cell_type": "code",
   "execution_count": null,
   "metadata": {},
   "outputs": [],
   "source": [
    "# Task 25: Access an element\n",
    "myTuple[2]"
   ]
  },
  {
   "cell_type": "markdown",
   "metadata": {},
   "source": [
    "### Task for you post on discussion blog 01\n",
    "+ Practice Problem: Create a two tuple one for the recommneded shopping site for 'labor day sales' \n",
    "+ and other tuple suggesting 'labor day sales'\n",
    "+ combine both tuples "
   ]
  },
  {
   "cell_type": "code",
   "execution_count": null,
   "metadata": {},
   "outputs": [],
   "source": [
    "# Task 26:Create a dictionary of Assignments Score\n",
    "myAssign = {\"A1\":100, \"A2\":95, \"A3\":105, \"A4\":99, \"A5\":98}\n",
    "print(myAssign)"
   ]
  },
  {
   "cell_type": "code",
   "execution_count": null,
   "metadata": {},
   "outputs": [],
   "source": [
    "# Task 27: Access dictionary value using key\n",
    "#myAssign.get(\"A2\")\n",
    "myAssign[\"A2\"]"
   ]
  },
  {
   "cell_type": "code",
   "execution_count": null,
   "metadata": {},
   "outputs": [],
   "source": [
    "# Task 28: Length of dictionary\n",
    "len(myAssign) "
   ]
  },
  {
   "cell_type": "markdown",
   "metadata": {},
   "source": [
    "### Task for you post on discussion blog 01\n",
    "+ Practice Problem: create a dictionary of mtcars dataset"
   ]
  },
  {
   "cell_type": "code",
   "execution_count": null,
   "metadata": {},
   "outputs": [],
   "source": [
    "# Task 29: Create two sets\n",
    "a = {2,4,6,8}\n",
    "b = {1,2,3,4,5,6,7,8,9,10}\n",
    "print(a)\n",
    "print(b)"
   ]
  },
  {
   "cell_type": "code",
   "execution_count": null,
   "metadata": {},
   "outputs": [],
   "source": [
    "# Task 30: union: the union of a collection of sets is the set of all elements in the collection. I\n",
    "a.union(b)"
   ]
  },
  {
   "cell_type": "code",
   "execution_count": null,
   "metadata": {},
   "outputs": [],
   "source": [
    "# Task 31: intersection: The set operation intersection takes only the elements that are in both set\n",
    "a.intersection(b)"
   ]
  },
  {
   "cell_type": "code",
   "execution_count": null,
   "metadata": {},
   "outputs": [],
   "source": [
    "# Task 32: difference: The difference of set B from set A, denoted by A-B, is the set of all the elements of set A that are not in set B. \n",
    "b.difference(a)"
   ]
  },
  {
   "cell_type": "markdown",
   "metadata": {},
   "source": [
    "### Task for you post on discussion blog 01\n",
    "+ Practice Problem: create two sets\n",
    "+ set1 contains string type of data\n",
    "+ set 1 contains numeric type of data\n",
    "+ Explore the union, intersection and difference operations "
   ]
  },
  {
   "cell_type": "markdown",
   "metadata": {},
   "source": [
    "## Handling of files"
   ]
  },
  {
   "cell_type": "markdown",
   "metadata": {},
   "source": [
    "#### Reading csv files using pandas"
   ]
  },
  {
   "cell_type": "code",
   "execution_count": null,
   "metadata": {},
   "outputs": [],
   "source": [
    "# Task 33: Read Employee data.csv files using pandas\n",
    "import pandas as pd\n",
    "temp = pd.read_csv(\"Employee data.csv\")\n",
    "temp.head(3)"
   ]
  },
  {
   "cell_type": "code",
   "execution_count": null,
   "metadata": {},
   "outputs": [],
   "source": [
    "# Task 34: Read wine.csv files using pandas and print first 5 rows\n",
    "wine = pd.read_csv(\"wine.csv\")\n",
    "print (wine.head) "
   ]
  },
  {
   "cell_type": "markdown",
   "metadata": {},
   "source": [
    "#### Reading text file "
   ]
  },
  {
   "cell_type": "code",
   "execution_count": null,
   "metadata": {},
   "outputs": [],
   "source": [
    "# Task 35: Read the 'frost.txt'\n",
    "fh = open(\"frost.txt\", \"r\")\n",
    "a = fh.read()       \n",
    "print(a)"
   ]
  },
  {
   "cell_type": "code",
   "execution_count": null,
   "metadata": {},
   "outputs": [],
   "source": [
    "fh.close()"
   ]
  },
  {
   "cell_type": "markdown",
   "metadata": {},
   "source": [
    "## Simple programs in Python"
   ]
  },
  {
   "cell_type": "code",
   "execution_count": null,
   "metadata": {},
   "outputs": [],
   "source": [
    "# Task 36: This is readline for python"
   ]
  },
  {
   "cell_type": "code",
   "execution_count": null,
   "metadata": {},
   "outputs": [],
   "source": [
    "# Task 37: if and else"
   ]
  },
  {
   "cell_type": "code",
   "execution_count": null,
   "metadata": {},
   "outputs": [],
   "source": [
    "# Task 38: The elif option"
   ]
  },
  {
   "cell_type": "markdown",
   "metadata": {},
   "source": [
    "### Task for you post on discussion blog 081\n",
    "+ Practice Problem: Refer our DNSC 6303-10 syllabus and Print the grading scale using conditional statements."
   ]
  },
  {
   "cell_type": "code",
   "execution_count": null,
   "metadata": {},
   "outputs": [],
   "source": [
    "# Task 39: Write code to calculate BMI"
   ]
  },
  {
   "cell_type": "code",
   "execution_count": null,
   "metadata": {},
   "outputs": [],
   "source": [
    "# Task 40: Create a function to find BMI"
   ]
  }
 ],
 "metadata": {
  "kernelspec": {
   "display_name": "Python 3",
   "language": "python",
   "name": "python3"
  },
  "language_info": {
   "codemirror_mode": {
    "name": "ipython",
    "version": 3
   },
   "file_extension": ".py",
   "mimetype": "text/x-python",
   "name": "python",
   "nbconvert_exporter": "python",
   "pygments_lexer": "ipython3",
   "version": "3.8.8"
  }
 },
 "nbformat": 4,
 "nbformat_minor": 4
}
