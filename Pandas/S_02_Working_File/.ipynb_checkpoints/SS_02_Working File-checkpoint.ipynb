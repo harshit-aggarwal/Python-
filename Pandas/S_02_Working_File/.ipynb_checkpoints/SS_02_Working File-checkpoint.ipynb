{
 "cells": [
  {
   "cell_type": "markdown",
   "metadata": {},
   "source": [
    "# DNSC 6303-10: PROGRAMMING FOR ANALYTICS - SS_02\n",
    "\n",
    "### Class Note: Review of S_01 and Lets explore Numpy and inclass practice"
   ]
  },
  {
   "cell_type": "markdown",
   "metadata": {},
   "source": [
    "## Review of S_01_Doubts from Discussion/FAQ's/Blogs"
   ]
  },
  {
   "cell_type": "code",
   "execution_count": null,
   "metadata": {},
   "outputs": [],
   "source": [
    "# Task 1: What will be the output of the following program?\n",
    "count = 0 # intitlize count object with value 0\n",
    "num = 10 # intitlize num object with value 10\n",
    "while num > 8: # is 10 > 8 yes, execute the code inside while loop\n",
    "    for y in range(1,5): # for will iterate 5 times \n",
    "        count = count + 1 #count object will increment with each iteration \n",
    "    num = num - 1 # num object with decrement with each iteration \n",
    "print(count) #while condition is false 8>8, loop will be terminated \n",
    "# While Loop: With the while loop we can execute a set of statements as long as a condition is true."
   ]
  },
  {
   "cell_type": "code",
   "execution_count": null,
   "metadata": {},
   "outputs": [],
   "source": [
    "# Normal looping\n"
   ]
  },
  {
   "cell_type": "code",
   "execution_count": null,
   "metadata": {},
   "outputs": [],
   "source": [
    "# Task 2: Create a List of your favorite band and Explore 'enumerate function'\n"
   ]
  },
  {
   "cell_type": "markdown",
   "metadata": {},
   "source": [
    "+ The built-in enumerate() function allows you to loop over a list of items while keeping track of the index value in a separate variable.\n",
    "+ The enumerate function lets you iterate directly over the data while getting an index number “for free.”\n",
    "+ By using enumerate, you get an index number brought to you free of charge by Python! "
   ]
  },
  {
   "cell_type": "code",
   "execution_count": null,
   "metadata": {},
   "outputs": [],
   "source": [
    "# Task 3: Questions from Session_01 \n",
    "mynum = input(\"Please type a number and press enter/return ...\")\n",
    "?????????????????????????????????????????????\n",
    "\n",
    "mynum = float(mynum)\n",
    "    if (mynum > 0):\n",
    "        print(\"Your number is positive\")\n",
    "    elif (mynum < 0):\n",
    "        print(\"Your number is negative\")\n",
    "    else:\n",
    "        print(\"Your number is zero\")\n",
    "else:\n",
    "    print(\"You did not enter a valid numeric input\")"
   ]
  },
  {
   "cell_type": "code",
   "execution_count": null,
   "metadata": {},
   "outputs": [],
   "source": [
    "# Task 4 (option 1): Play with print() function using rainbow colors ( Async_Material_Folder_01 )\n",
    "## 'red', 'orange', 'yellow', 'green', 'blue', 'indigo', 'violet'\n"
   ]
  },
  {
   "cell_type": "code",
   "execution_count": null,
   "metadata": {},
   "outputs": [],
   "source": [
    "# Task 4 (option 2): \n"
   ]
  },
  {
   "cell_type": "code",
   "execution_count": null,
   "metadata": {},
   "outputs": [],
   "source": [
    "# Task 5: Write the function Reverse_Word(word) which returns the word in the reverse order.\n",
    "# Python uses the :: to separate the End, the Start, and the Step value. ([start:stop:step])\n"
   ]
  },
  {
   "cell_type": "markdown",
   "metadata": {},
   "source": [
    "# Task for you to post on discussion blog 02 by 09/14/2021 (Screenshot only)\n",
    "+ Practice Problem: Refer our DNSC 6303-10 syllabus and Print the grading scale using conditional statements."
   ]
  },
  {
   "cell_type": "markdown",
   "metadata": {},
   "source": [
    "# Introduction to Numpy\n",
    "+ Numpy is the core library for scientific computing in Python. \n",
    "+ It provides a high-performance multidimensional array object, and tools for working with these arrays\n",
    "+ The dimensionality of an array specifies the number of indices that are required to uniquely specify one of its entries."
   ]
  },
  {
   "cell_type": "markdown",
   "metadata": {},
   "source": [
    "## Lets explore the Async_Material_Folder_02"
   ]
  },
  {
   "cell_type": "markdown",
   "metadata": {},
   "source": [
    "### Lets Practice some of the attributes of a NumPy\n",
    "+ Ndim: displays the dimension of the array\n",
    "+ Shape: returns a tuple of integers indicating the size of the array\n",
    "+ Size: returns the total number of elements in the NumPy array\n",
    "+ Dtype: returns the type of elements in the array, i.e., int64, character\n",
    "+ Itemsize: returns the size in bytes of each item\n",
    "+ Reshape: Reshapes the NumPy array"
   ]
  },
  {
   "cell_type": "code",
   "execution_count": null,
   "metadata": {},
   "outputs": [],
   "source": [
    "# 3 D array\n",
    "from IPython.display import Image\n",
    "Image(\"img/pic3.png\",width=300, height=300)"
   ]
  },
  {
   "cell_type": "code",
   "execution_count": null,
   "metadata": {},
   "outputs": [],
   "source": [
    "#Task 6: Create a array of any 10 numbers\n",
    "import numpy as np\n",
    "myonedim = np.array([1, 2, 3, 4, 5, 6, 7, 8])\n",
    "mytwodim = np.array([[1, 2, 3], [4, 5, 6]])\n",
    "mythreedim = np.array([[  [ 1,  2], [ 3,  4], [ 5,  6]],\n",
    "                    [[ 7,  8], [ 9, 10], [11, 12]],\n",
    "                    [[13, 14], [15, 16], [17, 18]]])\n",
    "# Python does not have built-in support for Arrays, but Python Lists can be used instead."
   ]
  },
  {
   "cell_type": "code",
   "execution_count": null,
   "metadata": {},
   "outputs": [],
   "source": [
    "#Task 7: Check the array dimension, shape, size, length and type\n",
    "print(\"\\nHere is the one dimensional array\\n\", myonedim)\n",
    "print(\"\\nHere is the two dimensional array\\n\",mytwodim)\n",
    "print(\"\\nHere is the three dimensional array\\n\", mythreedim)"
   ]
  },
  {
   "cell_type": "code",
   "execution_count": null,
   "metadata": {},
   "outputs": [],
   "source": [
    "# Task 8: Explore arrange and reshape function \n",
    "import numpy as np\n",
    "arr = np.arange(16).reshape((2, 2, 4))\n",
    "arr"
   ]
  },
  {
   "cell_type": "markdown",
   "metadata": {},
   "source": [
    "+ Python’s sequences, we use 0-based indices and slicing to access the content of an array. However, we must specify an index/slice for each dimension of an array\n",
    "+ You can think of axis-0 denoting which of the 2x2 “sheets” to select from. Then axis-1 specifies the row along the sheets, and axis-2 the column within the row\n",
    "+ arange() is an inbuilt numpy function that returns an ndarray object containing evenly spaced values within a defined interval.\n",
    "+ reshape() function is used to give a new shape to an array without changing its data.\n",
    "+ reshape(2, 2, 4) \n",
    "+ array, shape, order\n",
    "+ array is the input array\n",
    "+ shape is new shape\n",
    "+ order be default c - row wise operations, f - column wise operations"
   ]
  },
  {
   "cell_type": "markdown",
   "metadata": {},
   "source": [
    "### Basic Indexing and Slicing\n",
    "### indexing/Slicing in NumPy has this formula [start:stop:step]"
   ]
  },
  {
   "cell_type": "code",
   "execution_count": null,
   "metadata": {},
   "outputs": [],
   "source": [
    "# Task 9: Create a 1D array \n"
   ]
  },
  {
   "cell_type": "markdown",
   "metadata": {},
   "source": [
    "+ NOTE:\n",
    "+ Slicing a list gives us another list, instead of a single element. Slicing is an incredibly useful feature in python, one that you will use a lot!\n",
    "+ A slice specifies a start index and an end index, and creates and returns a new list based on the indices. The indices are separated by a colon ':'. Keep in mind that the sub-list returned contains only the elements till (end index - 1)."
   ]
  },
  {
   "cell_type": "code",
   "execution_count": null,
   "metadata": {},
   "outputs": [],
   "source": [
    "from IPython.display import Image\n",
    "Image(\"img/image3.jpg\",width=1000, height=1000)"
   ]
  },
  {
   "cell_type": "code",
   "execution_count": null,
   "metadata": {},
   "outputs": [],
   "source": [
    "# Task 10: Explore the arrange function\n"
   ]
  },
  {
   "cell_type": "code",
   "execution_count": null,
   "metadata": {},
   "outputs": [],
   "source": [
    "# Task 11: Extract the 5th element from task 10\n"
   ]
  },
  {
   "cell_type": "code",
   "execution_count": null,
   "metadata": {},
   "outputs": [],
   "source": [
    "# Task 12: Extract 5th to 8th elements \n"
   ]
  },
  {
   "cell_type": "code",
   "execution_count": null,
   "metadata": {},
   "outputs": [],
   "source": [
    "# Task 13: Extract all elements starting with index 1\n",
    "\n",
    "## every other element, starting at index 1\n",
    "## :: for jumping of elements in multiple axes"
   ]
  },
  {
   "cell_type": "markdown",
   "metadata": {},
   "source": [
    "+ single colon (:) combining indexing and slicing (slice operator with sequence)\n",
    "+ Double colon(::) combining indexing and slicing (slice operator with sequence)"
   ]
  },
  {
   "cell_type": "markdown",
   "metadata": {},
   "source": [
    "# 2D array"
   ]
  },
  {
   "cell_type": "code",
   "execution_count": null,
   "metadata": {},
   "outputs": [],
   "source": [
    "# Task 14: Create a 2D array and return the 3rd element for 2nd row and 2 element of 3rd column\n",
    "arr2d = np.array([[1, 2, 3], [4, 5, 6], [7, 8, 9]])\n"
   ]
  },
  {
   "cell_type": "code",
   "execution_count": null,
   "metadata": {},
   "outputs": [],
   "source": [
    "from IPython.display import Image\n",
    "Image(\"img/pic1.png\",width=300, height=300)"
   ]
  },
  {
   "cell_type": "code",
   "execution_count": null,
   "metadata": {},
   "outputs": [],
   "source": [
    "# Task 15: Slicing 2D array, access the element at [0][2]\n"
   ]
  },
  {
   "cell_type": "code",
   "execution_count": null,
   "metadata": {},
   "outputs": [],
   "source": [
    "# Task 16: Other ways to do slicing\n"
   ]
  },
  {
   "cell_type": "code",
   "execution_count": null,
   "metadata": {},
   "outputs": [],
   "source": [
    "# Task 17: Access all elements from 0 to 2\n"
   ]
  },
  {
   "cell_type": "code",
   "execution_count": null,
   "metadata": {},
   "outputs": [],
   "source": [
    "# Task 18: Access all elements (2,2)\n"
   ]
  },
  {
   "cell_type": "code",
   "execution_count": null,
   "metadata": {},
   "outputs": [],
   "source": [
    "from IPython.display import Image\n",
    "Image(\"img/pic2.png\",width=300, height=300)"
   ]
  },
  {
   "cell_type": "code",
   "execution_count": null,
   "metadata": {},
   "outputs": [],
   "source": [
    "# Task 19: interpret the results\n"
   ]
  },
  {
   "cell_type": "code",
   "execution_count": null,
   "metadata": {},
   "outputs": [],
   "source": [
    "# Task 20: interpret the results\n"
   ]
  },
  {
   "cell_type": "code",
   "execution_count": null,
   "metadata": {},
   "outputs": [],
   "source": [
    "from IPython.display import Image\n",
    "Image(\"img/pic4.png\",width=300, height=300)"
   ]
  },
  {
   "cell_type": "code",
   "execution_count": null,
   "metadata": {},
   "outputs": [],
   "source": [
    "# Task 20 to 22: for you to post on discussion blog 02 by 09/14/2021 (Screenshot only)\n"
   ]
  },
  {
   "cell_type": "code",
   "execution_count": null,
   "metadata": {},
   "outputs": [],
   "source": [
    "# Task 21: Intrepret the output\n"
   ]
  },
  {
   "cell_type": "code",
   "execution_count": null,
   "metadata": {},
   "outputs": [],
   "source": [
    "from IPython.display import Image\n",
    "Image(\"img/pic5.png\",width=300, height=300)"
   ]
  },
  {
   "cell_type": "code",
   "execution_count": null,
   "metadata": {},
   "outputs": [],
   "source": [
    "# Task 22: Interpret the output\n"
   ]
  },
  {
   "cell_type": "code",
   "execution_count": null,
   "metadata": {},
   "outputs": [],
   "source": [
    "from IPython.display import Image\n",
    "Image(\"img/pic6.png\",width=300, height=300)"
   ]
  },
  {
   "cell_type": "markdown",
   "metadata": {},
   "source": [
    "# 3D array"
   ]
  },
  {
   "cell_type": "code",
   "execution_count": null,
   "metadata": {},
   "outputs": [],
   "source": [
    "# Task 23: Create a 3 array\n",
    "arr3d = np.array([[[1, 2, 3], [4, 5, 6]], [[7, 8, 9], [10, 11, 12]]])\n"
   ]
  },
  {
   "cell_type": "code",
   "execution_count": null,
   "metadata": {},
   "outputs": [],
   "source": [
    "# Task 24: Extract the element residing in sheet-0, at row-1 and column-0\n"
   ]
  },
  {
   "cell_type": "code",
   "execution_count": null,
   "metadata": {},
   "outputs": [],
   "source": [
    "# Task 25: Extract the elements in row-0 and column-0 of both sheets\n"
   ]
  },
  {
   "cell_type": "markdown",
   "metadata": {},
   "source": [
    "+ Accessing array rows and columns\n",
    "\n",
    "+ One commonly needed routine is accessing of single rows or columns of an array.\n",
    "+ This can be done by combining indexing and slicing, using an empty slice marked by a single colon (:)\n",
    "+ single colon (:) combining indexing and slicing (slice operator with sequence)\n",
    "+ Double colon(::) combining indexing and slicing (slice operator with sequence)"
   ]
  },
  {
   "cell_type": "code",
   "execution_count": null,
   "metadata": {},
   "outputs": [],
   "source": [
    "# Task 26: Arrange 10 number into 2,5 shape and access all elements \n",
    "import numpy as np\n"
   ]
  },
  {
   "cell_type": "markdown",
   "metadata": {},
   "source": [
    "# Pandas Series (Lets explore the Async_Material_Folder_02)\n",
    "+ A pandas Series is a one-dimensional array-like object containing an array of data (of any NumPy data type) and an associated array of data labels, called its index."
   ]
  },
  {
   "cell_type": "code",
   "execution_count": null,
   "metadata": {},
   "outputs": [],
   "source": [
    "# Task 27:create a series formed from only an array of data: \n",
    "from pandas import Series, DataFrame\n",
    "import pandas as pd\n",
    "data = pd.Series([0.25, 0.5, 0.75, 1.0])\n",
    "data"
   ]
  },
  {
   "cell_type": "code",
   "execution_count": null,
   "metadata": {},
   "outputs": [],
   "source": [
    "# Task 28: Access second element\n",
    "data[1]"
   ]
  },
  {
   "cell_type": "code",
   "execution_count": null,
   "metadata": {},
   "outputs": [],
   "source": [
    "# Task 29: Access 2nd, 3rd and 4th \n",
    "data[1:3]"
   ]
  },
  {
   "cell_type": "markdown",
   "metadata": {},
   "source": [
    "## Pandas Dataframes\n",
    "+ DataFrame represents a tabular, spreadsheet-like data structure containing an ordered collection of columns, each of which can be a different value type (numeric, string, boolean, etc.)\n",
    "+ The DataFrame has both a row and column index; it can be thought of as a dictionaries of Series (one for all sharing the same index)."
   ]
  },
  {
   "cell_type": "code",
   "execution_count": 7,
   "metadata": {},
   "outputs": [],
   "source": [
    "# Task 30: Create a data frame of the following information\n",
    "City = {'state': ['Ohio', 'Ohio', 'Ohio', 'Nevada', 'Nevada'],\n",
    "        'year': [2000, 2001, 2002, 2001, 2002],\n",
    "        'pop': [1.5, 1.7, 3.6, 2.4, 2.9]}"
   ]
  },
  {
   "cell_type": "code",
   "execution_count": null,
   "metadata": {},
   "outputs": [],
   "source": []
  },
  {
   "cell_type": "markdown",
   "metadata": {},
   "source": [
    "### Inclass Practice with  weather_by_cities.csv"
   ]
  },
  {
   "cell_type": "code",
   "execution_count": null,
   "metadata": {},
   "outputs": [],
   "source": [
    "# Read the weather_by_cities.csv\n",
    "import pandas as pd\n",
    "df = pd.read_csv(\"weather_by_cities.csv\")\n",
    "df"
   ]
  },
  {
   "cell_type": "markdown",
   "metadata": {},
   "source": [
    "## Tasks 31 - 35: For this dataset, get following answers,\n",
    "+ What was the maximum temperature in each of these 3 cities?\n",
    "+ What was the average windspeed in each of these 3 cities?"
   ]
  },
  {
   "cell_type": "code",
   "execution_count": null,
   "metadata": {},
   "outputs": [],
   "source": [
    "# Task 31: Get city wise information\n",
    "## Explore group_by function\n",
    "# groupby() function is used to split the data into groups based on some criteria. pandas objects can be split on any of their axes\n"
   ]
  },
  {
   "cell_type": "code",
   "execution_count": null,
   "metadata": {},
   "outputs": [],
   "source": [
    "# DataFrameGroupBy object looks something like below\n",
    "from IPython.display import Image\n",
    "Image(\"Img/image2.png\",width=800, height=800)"
   ]
  },
  {
   "cell_type": "code",
   "execution_count": null,
   "metadata": {},
   "outputs": [],
   "source": [
    "# Task 32: Get city wise information\n"
   ]
  },
  {
   "cell_type": "code",
   "execution_count": null,
   "metadata": {},
   "outputs": [],
   "source": [
    "# Task 33: Get details of any one 'city'\n"
   ]
  },
  {
   "cell_type": "code",
   "execution_count": null,
   "metadata": {},
   "outputs": [],
   "source": [
    "# Task 34: Get max temperature and windspeed of all city\n"
   ]
  },
  {
   "cell_type": "code",
   "execution_count": null,
   "metadata": {
    "code_folding": []
   },
   "outputs": [],
   "source": [
    "# Task 35: Get mean temperature and windspeed of all city\n"
   ]
  },
  {
   "cell_type": "markdown",
   "metadata": {},
   "source": [
    "## Tasks 36 - 38: Explore statistical and most frequently used inbuilt function , get following answers,"
   ]
  },
  {
   "cell_type": "code",
   "execution_count": null,
   "metadata": {},
   "outputs": [],
   "source": [
    "# Task 36: Find basic statistical details\n",
    "## Pandas describe() is used to view some basic statistical details like percentile, mean, std etc. of a data frame or a series of numeric values.\n"
   ]
  },
  {
   "cell_type": "code",
   "execution_count": null,
   "metadata": {},
   "outputs": [],
   "source": [
    "# Task 37: Find the number of items in each city\n",
    "## size() function count the number of elements along a given axis. \n"
   ]
  },
  {
   "cell_type": "code",
   "execution_count": null,
   "metadata": {},
   "outputs": [],
   "source": [
    "# Task 38: Find the number of occurrences \n",
    "## count() is an inbuilt function in Python that returns count of how many times a given object occurs in list."
   ]
  },
  {
   "cell_type": "code",
   "execution_count": null,
   "metadata": {},
   "outputs": [],
   "source": [
    "# Task 39 - 40 for BB blog week 02 post your code by by 09/14/2021 (Screenshot only)\n",
    "## following is the data for mid term score for DNSC 6303-10, Boys vs Girls \n",
    "data = {\n",
    "    \"BoyOrGirl\": [\n",
    "        \"Boy\",\n",
    "        \"Boy\",\n",
    "        \"Boy\",\n",
    "        \"Girl\",\n",
    "        \"Boy\",\n",
    "        \"Girl\",\n",
    "        \"Boy\",\n",
    "        \"Boy\",\n",
    "        \"Girl\",\n",
    "        \"Girl\",\n",
    "        \"Boy\",\n",
    "        \"Boy\",\n",
    "    ],\n",
    "    \"TestScore\": [25, 94, 57, 62, 70, 25, 94, 57, 62, 70, 62, 70],\n",
    "}"
   ]
  },
  {
   "cell_type": "code",
   "execution_count": null,
   "metadata": {},
   "outputs": [],
   "source": [
    "# Task 39: Create a pandas dataframe"
   ]
  },
  {
   "cell_type": "code",
   "execution_count": null,
   "metadata": {},
   "outputs": [],
   "source": [
    "# Task 40: Group by using gender and display the list of test score genderwise"
   ]
  }
 ],
 "metadata": {
  "kernelspec": {
   "display_name": "Python 3",
   "language": "python",
   "name": "python3"
  },
  "language_info": {
   "codemirror_mode": {
    "name": "ipython",
    "version": 3
   },
   "file_extension": ".py",
   "mimetype": "text/x-python",
   "name": "python",
   "nbconvert_exporter": "python",
   "pygments_lexer": "ipython3",
   "version": "3.8.8"
  }
 },
 "nbformat": 4,
 "nbformat_minor": 4
}
