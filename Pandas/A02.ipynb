{
 "cells": [
  {
   "cell_type": "code",
   "execution_count": null,
   "id": "5e7fa169",
   "metadata": {},
   "outputs": [],
   "source": [
    "# TASK_01\n",
    "\n",
    "\n",
    "fh = open(\"Task1.txt\", \"r\")\n",
    "read = fh.read()       \n",
    "fh.close()\n",
    "\n",
    "data = read.splitlines()\n",
    "for i in range(len(data)):\n",
    "    print(\"Line No:\", i+1)\n",
    "    print(data[i])\n",
    "    print(\"Number of characters:\", len(data[i])+1)\n",
    "    print(\"\\n\")\n",
    "    \n",
    "char_data = []\n",
    "for i in range(len(data)):\n",
    "    char_data.append(len(data[i]) + 1)\n",
    "\n",
    "    \n",
    "min_value = min(char_data) \n",
    "min_index = char_data.index(min_value)\n",
    "print(\"Concluding remark:\",min_index+1,\"is the smallest line with\",min_value,\"characters\")\n"
   ]
  },
  {
   "cell_type": "code",
   "execution_count": null,
   "id": "6ab3185b",
   "metadata": {},
   "outputs": [],
   "source": [
    "# TASK_02\n",
    "\n"
   ]
  },
  {
   "cell_type": "code",
   "execution_count": null,
   "id": "aa8dd5fa",
   "metadata": {},
   "outputs": [],
   "source": [
    "# TASK_03\n",
    "\n",
    "import pandas as pd\n",
    "import numpy as np\n",
    "quiz1 = pd.read_csv('Quiz1.csv')\n",
    "quiz2 = pd.read_csv('Quiz2.csv')\n",
    "quiz3 = pd.read_csv('Quiz3.csv')\n",
    "major = pd.read_csv('Major.csv')\n",
    "student = pd.read_csv('Student.csv')\n",
    "\n",
    "df = pd.merge(student, major)\n",
    "df = pd.merge(df, quiz1)\n",
    "df = pd.merge(df, quiz2)\n",
    "df = pd.merge(df, quiz3)\n",
    "df.drop_duplicates(inplace= True)\n",
    "\n",
    "\n",
    "q1 = df.iloc[:,4:]\n",
    "mean_score = []\n",
    "for i in range(len(df)):\n",
    "    mean_score.append(q1.iloc[i].mean())\n",
    "    \n",
    "df = df.assign(Quiz_Average = mean_score)\n",
    "\n",
    "df[['StudName','Major','Major Description','Quiz_Average']]"
   ]
  },
  {
   "cell_type": "code",
   "execution_count": null,
   "id": "ac0bd4b3",
   "metadata": {},
   "outputs": [],
   "source": [
    "# Part B\n",
    "import random\n",
    "\n",
    "def genRandNum():\n",
    "    k = random.randint(1,100)\n",
    "    return k\n",
    "\n",
    "def check(i,j):\n",
    "    if i == j:\n",
    "        return(\"Bingo!\")\n",
    "    elif i < j:\n",
    "        return(\"Too Low! Try again.\")\n",
    "    else:\n",
    "        return(\"Too High! Try again.\")\n",
    "        \n",
    "\n",
    "play = 1\n",
    "points = 100\n",
    "\n",
    "k = genRandNum()\n",
    "print(\"Hello! Let's play a game.\")\n",
    "print(\"I will select a number between 0 and 100, you have to guess\")\n",
    "\n",
    "while points > 0:\n",
    "    try:\n",
    "         x = int(input(\"What is your guess?\"))\n",
    "    except:\n",
    "        print(\"Please input integers only\")\n",
    "    if x > 100 or x < 0:\n",
    "        print(\"Wrong input!\")\n",
    "    else:\n",
    "        ans = check(x, k)\n",
    "        if ans == \"Bingo!\":\n",
    "            print(ans)\n",
    "            print(\"You had\", points, \"points left\")\n",
    "            break\n",
    "        else:\n",
    "            print(ans)\n",
    "            points = points - 1\n",
    "            print(\"You have\", points, \"points left\")\n",
    "    "
   ]
  },
  {
   "cell_type": "code",
   "execution_count": null,
   "id": "ceffa543",
   "metadata": {},
   "outputs": [],
   "source": []
  }
 ],
 "metadata": {
  "kernelspec": {
   "display_name": "Python 3",
   "language": "python",
   "name": "python3"
  },
  "language_info": {
   "codemirror_mode": {
    "name": "ipython",
    "version": 3
   },
   "file_extension": ".py",
   "mimetype": "text/x-python",
   "name": "python",
   "nbconvert_exporter": "python",
   "pygments_lexer": "ipython3",
   "version": "3.8.8"
  }
 },
 "nbformat": 4,
 "nbformat_minor": 5
}
