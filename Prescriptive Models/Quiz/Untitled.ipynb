{
 "cells": [
  {
   "cell_type": "code",
   "execution_count": null,
   "id": "e4f68a2a",
   "metadata": {},
   "outputs": [],
   "source": [
    "import pandas as pd\n",
    "\n",
    "data = pd.read_csv()"
   ]
  },
  {
   "cell_type": "code",
   "execution_count": null,
   "id": "52ddd3aa",
   "metadata": {},
   "outputs": [],
   "source": [
    "import requests\n",
    "import urllib.request\n",
    "\n",
    "url = \"https://www.nytimes.com\"\n",
    "reponse=requests.get(url)\n",
    "soup=bs(reponse.content,'html.parser')\n",
    "soup"
   ]
  },
  {
   "cell_type": "code",
   "execution_count": 9,
   "id": "acef1548",
   "metadata": {},
   "outputs": [
    {
     "name": "stdout",
     "output_type": "stream",
     "text": [
      "https://business.gwu.edu/sites/g/files/zaxdzs1611/f/image/SB_Header_215x90.jpg\n",
      "https://business.gwu.edu/sites/g/files/zaxdzs1611/f/image/gw_mono_0.png\n",
      "/sites/all/themes/gwu_marketing/images/icons/search.png\n",
      "https://business.gwu.edu/sites/all/themes/gwu_marketing/images/breadcrumb_arrow.png\n",
      "https://business.gwu.edu/sites/all/themes/gwu_marketing/images/breadcrumb_arrow.png\n",
      "https://business.gwu.edu/sites/all/themes/gwu_marketing/images/breadcrumb_arrow.png\n",
      "https://business.gwu.edu/sites/all/themes/gwu_marketing/images/breadcrumb_arrow.png\n",
      "/sites/g/files/zaxdzs1611/f/downloads/Bagchi_Prabir-440x500-220x250.jpg\n",
      "/sites/g/files/zaxdzs1611/f/image/Philippe%20Delquie%20440x500.jpg\n",
      "/sites/g/files/zaxdzs1611/f/downloads/Forman_Ernest-440x500-220x250.jpg\n",
      "/sites/g/files/zaxdzs1611/f/image/Shraddha%20Gawankar%20220x250.jpg\n",
      "/sites/g/files/zaxdzs1611/f/downloads/Jain_Sanjay-440x500-220x250.jpg\n",
      "/sites/g/files/zaxdzs1611/f/downloads/Kanungo_Shivraj-440x500-220x250.jpg\n",
      "/sites/g/files/zaxdzs1611/f/downloads/Kettunen_Janne-440x500-220x250.jpg\n",
      "/sites/g/files/zaxdzs1611/f/downloads/Khamooshi_Homayoun-440x500-220x250.jpg\n",
      "/sites/g/files/zaxdzs1611/f/image/Young_Hoon_Kwak_440x500.jpg\n",
      "/sites/g/files/zaxdzs1611/f/downloads/DLejuene-440x500-220x250.jpg\n",
      "/sites/g/files/zaxdzs1611/f/downloads/Matta_Marie-440x500-220x250.jpg\n",
      "/sites/g/files/zaxdzs1611/f/downloads/Prasad_Srinivas-440x500-220x250.jpg\n",
      "/sites/g/files/zaxdzs1611/f/image/Zhengling%20Qi_440x500.jpg\n",
      "/sites/g/files/zaxdzs1611/f/downloads/Soyer_Refik-440x500-220x250.jpg\n",
      "/sites/g/files/zaxdzs1611/f/image/Murat_Tarimcilar_440x500.jpg\n",
      "/sites/g/files/zaxdzs1611/f/downloads/Wirtz_Phil-440x500-220x250.jpg\n",
      "/sites/g/files/zaxdzs1611/f/image/Facebook.png\n",
      "/sites/g/files/zaxdzs1611/f/image/LinkedIn.png\n",
      "/sites/g/files/zaxdzs1611/f/image/Instagram_logo_transparent_35x35.png\n",
      "/sites/g/files/zaxdzs1611/f/image/Twitter.png\n",
      "/sites/g/files/zaxdzs1611/f/image/YouTube%20logo%20transparent%2035x35.png\n",
      "/sites/all/themes/gwu_marketing/images/logos/gw_primary_2c_rev.png\n"
     ]
    }
   ],
   "source": [
    "import requests\n",
    "from bs4 import BeautifulSoup\n",
    "\n",
    "def getdata(url):\n",
    "    r = requests.get(url)\n",
    "    return r.text\n",
    "\n",
    "htmldata = getdata(\"https://business.gwu.edu/academics/departments/decision-sciences/faculty\")\n",
    "soup=BeautifulSoup(htmldata,'html.parser')\n",
    "\n",
    "for item in soup.find_all('img'):\n",
    "    print(item['src'])\n"
   ]
  },
  {
   "cell_type": "code",
   "execution_count": null,
   "id": "9375a121",
   "metadata": {},
   "outputs": [],
   "source": []
  }
 ],
 "metadata": {
  "kernelspec": {
   "display_name": "Python 3",
   "language": "python",
   "name": "python3"
  },
  "language_info": {
   "codemirror_mode": {
    "name": "ipython",
    "version": 3
   },
   "file_extension": ".py",
   "mimetype": "text/x-python",
   "name": "python",
   "nbconvert_exporter": "python",
   "pygments_lexer": "ipython3",
   "version": "3.8.8"
  }
 },
 "nbformat": 4,
 "nbformat_minor": 5
}
