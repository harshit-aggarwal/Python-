{
 "cells": [
  {
   "cell_type": "markdown",
   "id": "341d83bc",
   "metadata": {},
   "source": [
    "\n"
   ]
  },
  {
   "cell_type": "code",
   "execution_count": 2,
   "id": "d9f9b0df",
   "metadata": {},
   "outputs": [],
   "source": [
    "# Load all required libraries\n",
    "import matplotlib.pyplot as plt\n",
    "import numpy as np\n",
    "from sklearn import datasets, linear_model\n",
    "from sklearn.metrics import mean_squared_error, r2_score\n",
    "import pandas as pd \n",
    "\n",
    "## Setting Pandas print option to print decimal values upto 4 places\n",
    "np.set_printoptions(precision=4, linewidth=100)\n",
    "# linewidth = The number of characters per line for the purpose of inserting line breaks \n"
   ]
  },
  {
   "cell_type": "code",
   "execution_count": 14,
   "id": "580ce8b2",
   "metadata": {},
   "outputs": [
    {
     "name": "stdout",
     "output_type": "stream",
     "text": [
      "<class 'pandas.core.frame.DataFrame'>\n",
      "RangeIndex: 36 entries, 0 to 35\n",
      "Data columns (total 2 columns):\n",
      " #   Column    Non-Null Count  Dtype  \n",
      "---  ------    --------------  -----  \n",
      " 0   Cost      36 non-null     float64\n",
      " 1   Quantity  36 non-null     int64  \n",
      "dtypes: float64(1), int64(1)\n",
      "memory usage: 704.0 bytes\n"
     ]
    }
   ],
   "source": [
    "data = pd.read_excel(\"Inventory.xlsx\")\n",
    "data = data.rename(columns={' Cost':'Cost'})\n",
    "\n",
    "data.info()\n"
   ]
  },
  {
   "cell_type": "code",
   "execution_count": 15,
   "id": "95629d1d",
   "metadata": {},
   "outputs": [
    {
     "data": {
      "image/png": "[encoded data removed]",
      "text/plain": [
       "<Figure size 432x288 with 1 Axes>"
      ]
     },
     "metadata": {
      "needs_background": "light"
     },
     "output_type": "display_data"
    }
   ],
   "source": [
    "plt.scatter(data['Quantity'],data['Cost'])\n",
    "plt.xlabel(\"Quantity\")\n",
    "plt.ylabel(\"Cost\")\n",
    "plt.show()"
   ]
  },
  {
   "cell_type": "code",
   "execution_count": 17,
   "id": "32ba0527",
   "metadata": {},
   "outputs": [],
   "source": [
    "import statsmodels.api as sm\n",
    "\n",
    "# Seperate the independent variable\n",
    "X = sm.add_constant( data['Quantity'] )\n",
    "X.head(5)\n",
    "\n",
    "Y = data['Cost']\n"
   ]
  },
  {
   "cell_type": "code",
   "execution_count": 18,
   "id": "cede0628",
   "metadata": {},
   "outputs": [],
   "source": [
    "from sklearn.model_selection import train_test_split\n",
    "# Splitting the dataset into Train and Test.\n",
    "\n",
    "# 80:20 - Train:Test\n",
    "train_X, test_X, train_y, test_y = train_test_split( X ,Y,train_size = 0.8,random_state = 100 )\n"
   ]
  },
  {
   "cell_type": "code",
   "execution_count": 22,
   "id": "873f9949",
   "metadata": {},
   "outputs": [
    {
     "name": "stdout",
     "output_type": "stream",
     "text": [
      "const       55.651110\n",
      "Quantity     0.000612\n",
      "dtype: float64\n"
     ]
    }
   ],
   "source": [
    "# Model Fit\n",
    "inventory_lm = sm.OLS( train_y, train_X ).fit()\n",
    "\n",
    "# Estimated Parameter Results\n",
    "print( inventory_lm.params )\n",
    "\n"
   ]
  },
  {
   "cell_type": "code",
   "execution_count": 23,
   "id": "71973589",
   "metadata": {},
   "outputs": [
    {
     "name": "stdout",
     "output_type": "stream",
     "text": [
      "                            OLS Regression Results                            \n",
      "==============================================================================\n",
      "Dep. Variable:                   Cost   R-squared:                       0.002\n",
      "Model:                            OLS   Adj. R-squared:                 -0.036\n",
      "Method:                 Least Squares   F-statistic:                   0.05072\n",
      "Date:                Wed, 29 Sep 2021   Prob (F-statistic):              0.824\n",
      "Time:                        11:16:13   Log-Likelihood:                -81.644\n",
      "No. Observations:                  28   AIC:                             167.3\n",
      "Df Residuals:                      26   BIC:                             170.0\n",
      "Df Model:                           1                                         \n",
      "Covariance Type:            nonrobust                                         \n",
      "==============================================================================\n",
      "                 coef    std err          t      P>|t|      [0.025      0.975]\n",
      "------------------------------------------------------------------------------\n",
      "const         55.6511      1.990     27.962      0.000      51.560      59.742\n",
      "Quantity       0.0006      0.003      0.225      0.824      -0.005       0.006\n",
      "==============================================================================\n",
      "Omnibus:                        1.328   Durbin-Watson:                   2.112\n",
      "Prob(Omnibus):                  0.515   Jarque-Bera (JB):                1.045\n",
      "Skew:                          -0.228   Prob(JB):                        0.593\n",
      "Kurtosis:                       2.171   Cond. No.                     1.66e+03\n",
      "==============================================================================\n",
      "\n",
      "Notes:\n",
      "[1] Standard Errors assume that the covariance matrix of the errors is correctly specified.\n",
      "[2] The condition number is large, 1.66e+03. This might indicate that there are\n",
      "strong multicollinearity or other numerical problems.\n"
     ]
    }
   ],
   "source": [
    "# Model Diagostics\n",
    "print(inventory_lm.summary())\n"
   ]
  },
  {
   "cell_type": "code",
   "execution_count": 24,
   "id": "abd4b359",
   "metadata": {},
   "outputs": [
    {
     "data": {
      "text/plain": [
       "<Figure size 576x432 with 0 Axes>"
      ]
     },
     "metadata": {},
     "output_type": "display_data"
    },
    {
     "data": {
      "image/png": "[encoded data removed]",
      "text/plain": [
       "<Figure size 432x288 with 1 Axes>"
      ]
     },
     "metadata": {
      "needs_background": "light"
     },
     "output_type": "display_data"
    }
   ],
   "source": [
    "rue_resid = inventory_lm.resid\n",
    "probplot = sm.ProbPlot( rue_resid, fit = True )\n",
    "plt.figure( figsize = (8, 6) )\n",
    "probplot.ppplot( line='45' )\n",
    "plt.title( \"[Fig C] - Normal P-P Plot of Regression Standardized Residuals\" )\n",
    "plt.show()"
   ]
  },
  {
   "cell_type": "code",
   "execution_count": 29,
   "id": "1b8dccc1",
   "metadata": {},
   "outputs": [
    {
     "data": {
      "text/html": [
       "<div>\n",
       "<style scoped>\n",
       "    .dataframe tbody tr th:only-of-type {\n",
       "        vertical-align: middle;\n",
       "    }\n",
       "\n",
       "    .dataframe tbody tr th {\n",
       "        vertical-align: top;\n",
       "    }\n",
       "\n",
       "    .dataframe thead th {\n",
       "        text-align: right;\n",
       "    }\n",
       "</style>\n",
       "<table border=\"1\" class=\"dataframe\">\n",
       "  <thead>\n",
       "    <tr style=\"text-align: right;\">\n",
       "      <th></th>\n",
       "      <th>Cost</th>\n",
       "      <th>Quantity</th>\n",
       "      <th>z_score_cost</th>\n",
       "    </tr>\n",
       "  </thead>\n",
       "  <tbody>\n",
       "  </tbody>\n",
       "</table>\n",
       "</div>"
      ],
      "text/plain": [
       "Empty DataFrame\n",
       "Columns: [Cost, Quantity, z_score_cost]\n",
       "Index: []"
      ]
     },
     "execution_count": 29,
     "metadata": {},
     "output_type": "execute_result"
    }
   ],
   "source": [
    "# Check the z-score for outlier analysis\n",
    "from scipy.stats import zscore\n",
    "data['z_score_cost']=zscore(data.Cost)\n",
    "\n",
    "data[ (data.z_score_cost > 3.0) | (data.z_score_cost < -3.0) ]\n"
   ]
  },
  {
   "cell_type": "code",
   "execution_count": 30,
   "id": "02ebd122",
   "metadata": {},
   "outputs": [],
   "source": [
    "pred_y = inventory_lm.predict( test_X )\n",
    "# Prediction on Validation set\n"
   ]
  },
  {
   "cell_type": "code",
   "execution_count": 31,
   "id": "ebb0594f",
   "metadata": {},
   "outputs": [
    {
     "data": {
      "text/plain": [
       "0.11713371287241503"
      ]
     },
     "execution_count": 31,
     "metadata": {},
     "output_type": "execute_result"
    }
   ],
   "source": [
    "from sklearn.metrics import r2_score, mean_squared_error\n",
    "np.abs(r2_score(test_y, pred_y))\n"
   ]
  },
  {
   "cell_type": "code",
   "execution_count": 32,
   "id": "e241c509",
   "metadata": {},
   "outputs": [
    {
     "data": {
      "text/plain": [
       "4.554073712565091"
      ]
     },
     "execution_count": 32,
     "metadata": {},
     "output_type": "execute_result"
    }
   ],
   "source": [
    "import numpy\n",
    "np.sqrt(mean_squared_error(test_y, pred_y))\n"
   ]
  },
  {
   "cell_type": "code",
   "execution_count": 35,
   "id": "d78120b4",
   "metadata": {},
   "outputs": [
    {
     "data": {
      "text/html": [
       "<div>\n",
       "<style scoped>\n",
       "    .dataframe tbody tr th:only-of-type {\n",
       "        vertical-align: middle;\n",
       "    }\n",
       "\n",
       "    .dataframe tbody tr th {\n",
       "        vertical-align: top;\n",
       "    }\n",
       "\n",
       "    .dataframe thead th {\n",
       "        text-align: right;\n",
       "    }\n",
       "</style>\n",
       "<table border=\"1\" class=\"dataframe\">\n",
       "  <thead>\n",
       "    <tr style=\"text-align: right;\">\n",
       "      <th></th>\n",
       "      <th>Quantity</th>\n",
       "      <th>pred_y</th>\n",
       "      <th>pred_y_left</th>\n",
       "      <th>pred_y_right</th>\n",
       "    </tr>\n",
       "  </thead>\n",
       "  <tbody>\n",
       "    <tr>\n",
       "      <th>0</th>\n",
       "      <td>844</td>\n",
       "      <td>56.167561</td>\n",
       "      <td>48.073222</td>\n",
       "      <td>64.261900</td>\n",
       "    </tr>\n",
       "    <tr>\n",
       "      <th>19</th>\n",
       "      <td>1174</td>\n",
       "      <td>56.369491</td>\n",
       "      <td>47.973230</td>\n",
       "      <td>64.765752</td>\n",
       "    </tr>\n",
       "    <tr>\n",
       "      <th>32</th>\n",
       "      <td>741</td>\n",
       "      <td>56.104535</td>\n",
       "      <td>48.047112</td>\n",
       "      <td>64.161957</td>\n",
       "    </tr>\n",
       "    <tr>\n",
       "      <th>35</th>\n",
       "      <td>870</td>\n",
       "      <td>56.183471</td>\n",
       "      <td>48.075397</td>\n",
       "      <td>64.291545</td>\n",
       "    </tr>\n",
       "    <tr>\n",
       "      <th>7</th>\n",
       "      <td>577</td>\n",
       "      <td>56.004182</td>\n",
       "      <td>47.947321</td>\n",
       "      <td>64.061042</td>\n",
       "    </tr>\n",
       "    <tr>\n",
       "      <th>12</th>\n",
       "      <td>1160</td>\n",
       "      <td>56.360924</td>\n",
       "      <td>47.982919</td>\n",
       "      <td>64.738929</td>\n",
       "    </tr>\n",
       "    <tr>\n",
       "      <th>29</th>\n",
       "      <td>780</td>\n",
       "      <td>56.128399</td>\n",
       "      <td>48.060300</td>\n",
       "      <td>64.196499</td>\n",
       "    </tr>\n",
       "    <tr>\n",
       "      <th>33</th>\n",
       "      <td>712</td>\n",
       "      <td>56.086789</td>\n",
       "      <td>48.034685</td>\n",
       "      <td>64.138894</td>\n",
       "    </tr>\n",
       "  </tbody>\n",
       "</table>\n",
       "</div>"
      ],
      "text/plain": [
       "    Quantity     pred_y  pred_y_left  pred_y_right\n",
       "0        844  56.167561    48.073222     64.261900\n",
       "19      1174  56.369491    47.973230     64.765752\n",
       "32       741  56.104535    48.047112     64.161957\n",
       "35       870  56.183471    48.075397     64.291545\n",
       "7        577  56.004182    47.947321     64.061042\n",
       "12      1160  56.360924    47.982919     64.738929\n",
       "29       780  56.128399    48.060300     64.196499\n",
       "33       712  56.086789    48.034685     64.138894"
      ]
     },
     "execution_count": 35,
     "metadata": {},
     "output_type": "execute_result"
    }
   ],
   "source": [
    "from statsmodels.sandbox.regression.predstd import wls_prediction_std\n",
    "# Predict the y values\n",
    "pred_y = inventory_lm.predict( test_X )\n",
    "# Predict the low and high interval values for y\n",
    "_, pred_y_low, pred_y_high = wls_prediction_std( inventory_lm,\n",
    "test_X,\n",
    "alpha = 0.1) #90 % confidence interval\n",
    "# Store all the values in a dataframe\n",
    "pred_y_df = pd.DataFrame( { 'Quantity': test_X['Quantity'],\n",
    "'pred_y': pred_y,\n",
    "'pred_y_left': pred_y_low,\n",
    "'pred_y_right': pred_y_high } )\n",
    "\n",
    "pred_y_df\n"
   ]
  },
  {
   "cell_type": "markdown",
   "id": "f497a055",
   "metadata": {},
   "source": [
    "# Part D"
   ]
  },
  {
   "cell_type": "code",
   "execution_count": null,
   "id": "4df4e382",
   "metadata": {},
   "outputs": [],
   "source": []
  },
  {
   "cell_type": "code",
   "execution_count": null,
   "id": "fb6fb55d",
   "metadata": {},
   "outputs": [],
   "source": [
    "# Task 1\n",
    "\n",
    "# Import regex library\n",
    "import re\n",
    "\n",
    "# Open both files\n",
    "file1 = open(\"script01.txt\",\"r\") #open script01.txt and save into file1\n",
    "file2 = open(\"script02.txt\", \"r\") #open script02.txt and save into file2\n",
    "\n",
    "script1 = file1.read() #read in file1 into script1\n",
    "script2 = file2.read() #read in file2 into script2\n",
    "\n",
    "script = script1 + script2 #combine script1 and script2\n",
    "\n",
    "# Step 2: Create list and dictionary\n",
    "atoz = \"abcdefghijklmnopqrstuvwxyz\" #create a list of the alphabet\n",
    "\n",
    "outcome = {} #Create empty dictionary\n",
    "\n",
    "# Step 3: Create your own function \n",
    "for character in script: \n",
    "    ch = character.lower() #make all characters lowercase\n",
    "    if ch in atoz: #check to see if the character is in the alphabet\n",
    "        if ch not in outcome: #check to see if character is not already saved in dictionary\n",
    "            outcome[ch] = 1 #Save character in dictionary and set value to 1\n",
    "        else: #Character already saved in dictionary\n",
    "            outcome[ch] += 1 #Add 1 to the value\n",
    "\n",
    "# Sort dictionary from highest to lowest value\n",
    "outcome_sort = sorted(outcome.items(), reverse = True, key=lambda x: x[1])\n",
    "\n",
    "# Display the sorted output \n",
    "outcome_sort\n",
    "\n",
    "# Write the output to text file called parta\n",
    "with open('parta.txt','w') as f:\n",
    "    print(outcome_sort,file=f)\n"
   ]
  },
  {
   "cell_type": "code",
   "execution_count": 3,
   "id": "af46db32",
   "metadata": {},
   "outputs": [],
   "source": [
    "# Task 2\n",
    "\n",
    "# Import regex library\n",
    "import re\n",
    "\n",
    "file1 = open(\"script01.txt\",\"r\") #open script01.txt and save into file1\n",
    "file2 = open(\"script02.txt\", \"r\") #open script02.txt and save into file2\n",
    "\n",
    "script1 = file1.read() #read in file1 into script1\n",
    "script2 = file2.read() #read in file2 into script2\n",
    "\n",
    "# Combine script1 and script2\n",
    "script = script1 + script2 \n",
    "\n",
    "# Convert all text to lower\n",
    "script = script.lower()\n",
    "\n",
    "# Substitute all characters except alphabets and spaces by an empty space \n",
    "script = re.sub('[^a-z ]+', ' ', script)\n",
    "\n",
    "# Split the string into an array containing individual words\n",
    "words = script.split()\n",
    "\n",
    "# Create empty dictionary\n",
    "outcome2 = {} \n",
    "\n",
    "# For loop to count the occurence of each word\n",
    "for word in words: \n",
    "  if word not in outcome2: # If word is not in outcome\n",
    "    outcome2[word] = 1 # Add the word and set index to 1\n",
    "  else:\n",
    "    outcome2[word] += 1 # Otherwise increase the index by 1\n",
    "\n",
    "# Sort the dict by the number of occurences of each word\n",
    "outcome2_sort = sorted(outcome2.items(), reverse = True, key=lambda x: x[1])\n",
    "\n",
    "# Display the top 10 most frequently occuring words\n",
    "list(outcome2_sort)[:10]\n",
    "\n",
    "# Write the output to text file called partb\n",
    "with open('partb.txt','w') as f:\n",
    "    print(outcome2_sort,file=f)\n"
   ]
  },
  {
   "cell_type": "code",
   "execution_count": 1,
   "id": "8d763816",
   "metadata": {
    "code_folding": []
   },
   "outputs": [],
   "source": [
    "\n",
    "# Get relevant libraries \n",
    "import re\n",
    "import pandas as pd\n",
    "\n",
    "# Open script01.txt and save into file1\n",
    "file1 = open(\"script01.txt\",\"r\") \n",
    "\n",
    "# Open script02.txt and save into file1\n",
    "file2 = open(\"script02.txt\",\"r\")\n",
    "\n",
    "# Read in file1 into script1\n",
    "script1 = file1.read() \n",
    "\n",
    "# Read in file2 into script2\n",
    "script2 = file2.read()\n",
    "\n",
    "# Load the data and convert the stop words into a list\n",
    "data = pd.read_csv('stopwords.csv')\n",
    "stop_words = data['above'].tolist()\n",
    "\n",
    "# Convert script1 to lowercase and substitute all characters except alphabets and spaces by an empty space \n",
    "script1 = script1.lower()\n",
    "script1 = re.sub('[^a-z ]+', ' ', script1)\n",
    "\n",
    "# Split script1 into a list of words\n",
    "script1 = script1.split()\n",
    "\n",
    "# Convert script2 to lowercase and substitute all characters except alphabets and spaces by an empty space \n",
    "script2 = script2.lower()\n",
    "script2 = re.sub('[^a-z ]+', ' ', script2)\n",
    "\n",
    "# Split script2 into a list of words\n",
    "script2 = script2.split()\n",
    "\n",
    "# Create empty list to hold all the filtered words from script1\n",
    "final_words1 = []\n",
    "\n",
    "# Check all words in script1\n",
    "for word in script1:\n",
    "    if word not in stop_words: # If word is not in stop words\n",
    "        if len(word) >= 2: # If the word is not a singleton\n",
    "            final_words1.append(word)  # Add the word to list holding the filtered words from script1\n",
    "\n",
    "# Create empty list to hold all the filtered words from script2\n",
    "final_words2 = []\n",
    "\n",
    "# Check all words in script1\n",
    "for word in script2:\n",
    "    if word not in stop_words: # If word is not in stop words\n",
    "        if len(word) >= 2: # If the word is not a singleton\n",
    "            final_words2.append(word)  # Add the word to list holding the filtered words from script2               \n",
    "\n",
    "outcome_script1 = {} # Create empty dictionary to hold word count\n",
    "\n",
    "# For all filtered words from script1\n",
    "for word in final_words1: \n",
    "    \n",
    "  if word not in outcome_script1: # Check to see if word is not already saved in dictionary\n",
    "    outcome_script1[word] = 1 # Save word in dictionary and set value to 1\n",
    "  else:  # Word already saved in dictionary\n",
    "    outcome_script1[word] += 1 # Increase the count occurrence of the word\n",
    "\n",
    "# Sort dictionary from highest to lowest value\n",
    "outcome_script1 = sorted(outcome_script1.items(), reverse = True, key=lambda x: x[1]) \n",
    "\n",
    "# Grab the top 10 values which represent the 10 most occurring words and their counts\n",
    "top_10 = (outcome_script1)[:10] \n",
    "\n",
    "# Empty list to store the top 10 words\n",
    "top_10_words = []\n",
    "\n",
    "# Grab the 10 most occurring words from the list, which is the first part of a tuple\n",
    "for word in top_10:\n",
    "    top_10_words.append(word[0])\n",
    "\n",
    "# Empty dict to store counts of occurring in script2\n",
    "script2_count = {}\n",
    "\n",
    "# Check all filtered words in script2\n",
    "for word in final_words2:\n",
    "    if word in top_10_words: # If the word exists in the list containing top 10 words from script1\n",
    "        if word not in script2_count: # Check to see if word already saved in the dict\n",
    "            script2_count[word] = 1 # Save word in dict and set value to 1\n",
    "        else: # Word already saved in dict\n",
    "            script2_count[word] += 1 # Increase the count occurrence of the word\n",
    "\n",
    "# Check all filtered words in script2\n",
    "for word in top_10_words:\n",
    "    if word not in script2_count: # If word did not appear in top 10 list\n",
    "        script2_count[word] = 0 # Set the count of that word to 0\n",
    "\n",
    "# Sory both lists containing the words and their occurrence count alphabetically\n",
    "count = sorted(script2_count.items(), reverse = False, key=lambda x: x[0])\n",
    "top_10 = sorted(top_10, reverse = False, key=lambda x: x[0])\n",
    "\n",
    "# Convert the lists to dataframes\n",
    "df1 = pd.DataFrame(top_10, columns =['Word', 'Script1_count'])\n",
    "df2 = pd.DataFrame(count, columns =['Word', 'Script2_count'])\n",
    "\n",
    "# Merge the 2 dataframes to get the word and thier counts in both scripts\n",
    "data = df1.merge(df2)\n",
    "\n",
    "# Print the resulting dataframe\n",
    "data\n",
    "\n",
    "# Write the output to text file called partc\n",
    "with open('partc.txt','w') as f:\n",
    "    print(data,file=f)"
   ]
  }
 ],
 "metadata": {
  "kernelspec": {
   "display_name": "Python 3",
   "language": "python",
   "name": "python3"
  },
  "language_info": {
   "codemirror_mode": {
    "name": "ipython",
    "version": 3
   },
   "file_extension": ".py",
   "mimetype": "text/x-python",
   "name": "python",
   "nbconvert_exporter": "python",
   "pygments_lexer": "ipython3",
   "version": "3.8.8"
  }
 },
 "nbformat": 4,
 "nbformat_minor": 5
}
