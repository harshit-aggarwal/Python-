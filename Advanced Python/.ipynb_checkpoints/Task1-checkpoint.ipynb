{
 "cells": [
  {
   "cell_type": "code",
   "execution_count": null,
   "id": "eeef68c7",
   "metadata": {},
   "outputs": [],
   "source": [
    "# Task 1"
   ]
  },
  {
   "cell_type": "code",
   "execution_count": 2,
   "id": "bbd36393",
   "metadata": {},
   "outputs": [],
   "source": [
    "# Task 1: A train company wants to automatically calculate the price of tickets based on age information and \n",
    "# itinerary collected from the customer. Price for standard tickets\n",
    "\n",
    "#Route A: $150\n",
    "#Route B: $250\n",
    "#Route C: $50\n",
    "\n",
    "#Age discounts\n",
    "#0 – 2: Free\n",
    "\n",
    "#2 – 16: 50 %\n",
    "\n",
    "#16 – 65: Standard price\n",
    "\n",
    "#65 +: -65%\n",
    "\n",
    "#Write a program that gives the user the right price based in these assumptions\n",
    "\n"
   ]
  },
  {
   "cell_type": "code",
   "execution_count": 21,
   "id": "4774d40d",
   "metadata": {},
   "outputs": [
    {
     "name": "stdout",
     "output_type": "stream",
     "text": [
      "Please input your age: 88\n",
      "Please choose a route from A, B or C (just input route initial): C\n",
      "Your ticket price is:  17.5\n"
     ]
    }
   ],
   "source": [
    "x = int(input(\"Please input your age: \"))\n",
    "y = str(input(\"Please choose a route from A, B or C (just input route initial): \"))\n",
    "\n",
    "prices = [150, 250, 50]\n",
    "\n",
    "selected = \"\"\n",
    "\n",
    "if (y == \"A\"):\n",
    "    selected = prices[0]\n",
    "elif (y == \"B\"):\n",
    "    selected = prices[1]\n",
    "elif (y == \"C\"):\n",
    "    selected = prices[2]\n",
    "else:\n",
    "    print(\"Wrong Input!\")\n",
    "    \n",
    "\n",
    "if (x < 0):\n",
    "    print(\"Wrong Input!\")\n",
    "elif (x <= 2):\n",
    "    price = 0;\n",
    "elif (x < 16):\n",
    "    price = selected * 0.5\n",
    "elif (x < 65):\n",
    "    price = selected\n",
    "else:\n",
    "    price = selected * 0.35\n",
    "\n",
    "print(\"Your ticket price is: \", price)"
   ]
  }
 ],
 "metadata": {
  "kernelspec": {
   "display_name": "Python 3",
   "language": "python",
   "name": "python3"
  },
  "language_info": {
   "codemirror_mode": {
    "name": "ipython",
    "version": 3
   },
   "file_extension": ".py",
   "mimetype": "text/x-python",
   "name": "python",
   "nbconvert_exporter": "python",
   "pygments_lexer": "ipython3",
   "version": "3.8.8"
  }
 },
 "nbformat": 4,
 "nbformat_minor": 5
}
