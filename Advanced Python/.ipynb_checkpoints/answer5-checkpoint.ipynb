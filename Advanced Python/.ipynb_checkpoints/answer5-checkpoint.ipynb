{
 "cells": [
  {
   "cell_type": "code",
   "execution_count": 3,
   "id": "f9f51806",
   "metadata": {},
   "outputs": [],
   "source": [
    "from pulp import *\n",
    "import warnings\n",
    "warnings.filterwarnings('ignore')\n",
    "import pandas as pd\n",
    "import matplotlib.pyplot as plt\n",
    "import pulp\n"
   ]
  },
  {
   "cell_type": "code",
   "execution_count": 4,
   "id": "3d6ef5a3",
   "metadata": {},
   "outputs": [],
   "source": [
    "x1=pulp.LpVariable('x1',lowBound=0)\n",
    "x2=pulp.LpVariable('x2',lowBound=0)\n"
   ]
  },
  {
   "cell_type": "code",
   "execution_count": 7,
   "id": "bf23a1d2",
   "metadata": {},
   "outputs": [
    {
     "name": "stdout",
     "output_type": "stream",
     "text": [
      "Status: Optimal\n"
     ]
    }
   ],
   "source": [
    "cost=pulp.LpProblem('Minimize Cost',pulp.LpMinimize)\n",
    "\n",
    "#Objective Function\n",
    "cost+=0.305625*x1+0.199375*x2,'Objective Function'\n",
    "\n",
    "# Constraints\n",
    "\n",
    "cost+=270*x1+150*x2 >= 1000,'Calcium'\n",
    "cost+=124*x1+120*x2 >= 600,'Vitamin D'"
   ]
  },
  {
   "cell_type": "code",
   "execution_count": 8,
   "id": "2a0a7b8f",
   "metadata": {},
   "outputs": [
    {
     "data": {
      "text/plain": [
       "Minimize_Cost:\n",
       "MINIMIZE\n",
       "0.305625*x1 + 0.199375*x2 + 0.0\n",
       "SUBJECT TO\n",
       "Calcium: 270 x1 + 150 x2 >= 1000\n",
       "\n",
       "Vitamin_D: 124 x1 + 120 x2 >= 600\n",
       "\n",
       "VARIABLES\n",
       "x1 Continuous\n",
       "x2 Continuous"
      ]
     },
     "execution_count": 8,
     "metadata": {},
     "output_type": "execute_result"
    }
   ],
   "source": [
    "cost"
   ]
  },
  {
   "cell_type": "code",
   "execution_count": 9,
   "id": "f86cc4b2",
   "metadata": {},
   "outputs": [
    {
     "name": "stdout",
     "output_type": "stream",
     "text": [
      "Status: Optimal\n"
     ]
    }
   ],
   "source": [
    "cost.solve()\n",
    "\n",
    "print(\"Status:\", LpStatus[cost.status])\n",
    "# Return status from solve"
   ]
  },
  {
   "cell_type": "code",
   "execution_count": 11,
   "id": "a0da4831",
   "metadata": {},
   "outputs": [
    {
     "name": "stdout",
     "output_type": "stream",
     "text": [
      "x1 = 2.173913\n",
      "x2 = 2.7536232\n",
      "objective= 1.213405786125\n"
     ]
    }
   ],
   "source": [
    "for i in cost.variables():\n",
    "    print(i.name, \"=\", i.varValue)\n",
    "\n",
    "print(\"objective=\", value(cost.objective))"
   ]
  },
  {
   "cell_type": "markdown",
   "id": "b5ed6ea1",
   "metadata": {},
   "source": [
    "An adult should consume 2.173 cups of milk along with 2.7536 cups of cereal.\n",
    "\n",
    "The cost of this would be approximately $1.2134"
   ]
  },
  {
   "cell_type": "code",
   "execution_count": null,
   "id": "3980c5c1",
   "metadata": {},
   "outputs": [],
   "source": []
  }
 ],
 "metadata": {
  "kernelspec": {
   "display_name": "Python 3",
   "language": "python",
   "name": "python3"
  },
  "language_info": {
   "codemirror_mode": {
    "name": "ipython",
    "version": 3
   },
   "file_extension": ".py",
   "mimetype": "text/x-python",
   "name": "python",
   "nbconvert_exporter": "python",
   "pygments_lexer": "ipython3",
   "version": "3.8.8"
  }
 },
 "nbformat": 4,
 "nbformat_minor": 5
}
