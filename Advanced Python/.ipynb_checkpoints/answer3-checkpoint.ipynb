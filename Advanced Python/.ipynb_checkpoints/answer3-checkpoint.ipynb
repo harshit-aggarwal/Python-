{
 "cells": [
  {
   "cell_type": "code",
   "execution_count": null,
   "id": "b9cabd8f",
   "metadata": {},
   "outputs": [],
   "source": [
    "# Q3"
   ]
  },
  {
   "cell_type": "markdown",
   "id": "c1125732",
   "metadata": {},
   "source": [
    "Read ‘country.csv’ contains Corruption Perception Index and Gini Index of 20 countries. Corruption Perception Index close to 100 indicates low corruption and close to 0 indicates high corruption. Gini Index is a measure of income distribution among citizens of a country (high Gini indicates high inequality). Corruption Index is taken from Transparency International, while Gini Index is sourced from Wikipedia.\n",
    "\n",
    "Task 1: Develop a linear regression model between corruption perception index (Y) and Gini index (X). What is the change in the corruption perception index for every one unit increase in Gini index?\n",
    "\n",
    "Task 2: What proportion of the variation in corruption perception index is explained by Gini index?\n",
    "\n"
   ]
  },
  {
   "cell_type": "code",
   "execution_count": 1,
   "id": "ae589d50",
   "metadata": {},
   "outputs": [
    {
     "data": {
      "text/html": [
       "<div>\n",
       "<style scoped>\n",
       "    .dataframe tbody tr th:only-of-type {\n",
       "        vertical-align: middle;\n",
       "    }\n",
       "\n",
       "    .dataframe tbody tr th {\n",
       "        vertical-align: top;\n",
       "    }\n",
       "\n",
       "    .dataframe thead th {\n",
       "        text-align: right;\n",
       "    }\n",
       "</style>\n",
       "<table border=\"1\" class=\"dataframe\">\n",
       "  <thead>\n",
       "    <tr style=\"text-align: right;\">\n",
       "      <th></th>\n",
       "      <th>Country</th>\n",
       "      <th>Corruption_Index</th>\n",
       "      <th>Gini_Index</th>\n",
       "    </tr>\n",
       "  </thead>\n",
       "  <tbody>\n",
       "    <tr>\n",
       "      <th>0</th>\n",
       "      <td>Hong Kong</td>\n",
       "      <td>77</td>\n",
       "      <td>53.7</td>\n",
       "    </tr>\n",
       "    <tr>\n",
       "      <th>1</th>\n",
       "      <td>South Korea</td>\n",
       "      <td>53</td>\n",
       "      <td>30.2</td>\n",
       "    </tr>\n",
       "    <tr>\n",
       "      <th>2</th>\n",
       "      <td>China</td>\n",
       "      <td>40</td>\n",
       "      <td>46.2</td>\n",
       "    </tr>\n",
       "    <tr>\n",
       "      <th>3</th>\n",
       "      <td>Italy</td>\n",
       "      <td>47</td>\n",
       "      <td>32.7</td>\n",
       "    </tr>\n",
       "    <tr>\n",
       "      <th>4</th>\n",
       "      <td>Mongolia</td>\n",
       "      <td>38</td>\n",
       "      <td>36.5</td>\n",
       "    </tr>\n",
       "  </tbody>\n",
       "</table>\n",
       "</div>"
      ],
      "text/plain": [
       "       Country  Corruption_Index  Gini_Index\n",
       "0    Hong Kong                77        53.7\n",
       "1  South Korea                53        30.2\n",
       "2        China                40        46.2\n",
       "3        Italy                47        32.7\n",
       "4     Mongolia                38        36.5"
      ]
     },
     "execution_count": 1,
     "metadata": {},
     "output_type": "execute_result"
    }
   ],
   "source": [
    "import pandas as pd\n",
    "\n",
    "data = pd.read_csv('country.csv')\n",
    "data.head()"
   ]
  },
  {
   "cell_type": "code",
   "execution_count": 2,
   "id": "80f328d7",
   "metadata": {},
   "outputs": [
    {
     "name": "stdout",
     "output_type": "stream",
     "text": [
      "<class 'pandas.core.frame.DataFrame'>\n",
      "RangeIndex: 20 entries, 0 to 19\n",
      "Data columns (total 3 columns):\n",
      " #   Column            Non-Null Count  Dtype  \n",
      "---  ------            --------------  -----  \n",
      " 0   Country           20 non-null     object \n",
      " 1   Corruption_Index  20 non-null     int64  \n",
      " 2   Gini_Index        20 non-null     float64\n",
      "dtypes: float64(1), int64(1), object(1)\n",
      "memory usage: 608.0+ bytes\n"
     ]
    }
   ],
   "source": [
    "data.info()"
   ]
  },
  {
   "cell_type": "code",
   "execution_count": 3,
   "id": "d6205377",
   "metadata": {},
   "outputs": [
    {
     "data": {
      "text/html": [
       "<div>\n",
       "<style scoped>\n",
       "    .dataframe tbody tr th:only-of-type {\n",
       "        vertical-align: middle;\n",
       "    }\n",
       "\n",
       "    .dataframe tbody tr th {\n",
       "        vertical-align: top;\n",
       "    }\n",
       "\n",
       "    .dataframe thead th {\n",
       "        text-align: right;\n",
       "    }\n",
       "</style>\n",
       "<table border=\"1\" class=\"dataframe\">\n",
       "  <thead>\n",
       "    <tr style=\"text-align: right;\">\n",
       "      <th></th>\n",
       "      <th>const</th>\n",
       "      <th>Gini_Index</th>\n",
       "    </tr>\n",
       "  </thead>\n",
       "  <tbody>\n",
       "    <tr>\n",
       "      <th>0</th>\n",
       "      <td>1.0</td>\n",
       "      <td>53.7</td>\n",
       "    </tr>\n",
       "    <tr>\n",
       "      <th>1</th>\n",
       "      <td>1.0</td>\n",
       "      <td>30.2</td>\n",
       "    </tr>\n",
       "    <tr>\n",
       "      <th>2</th>\n",
       "      <td>1.0</td>\n",
       "      <td>46.2</td>\n",
       "    </tr>\n",
       "    <tr>\n",
       "      <th>3</th>\n",
       "      <td>1.0</td>\n",
       "      <td>32.7</td>\n",
       "    </tr>\n",
       "    <tr>\n",
       "      <th>4</th>\n",
       "      <td>1.0</td>\n",
       "      <td>36.5</td>\n",
       "    </tr>\n",
       "  </tbody>\n",
       "</table>\n",
       "</div>"
      ],
      "text/plain": [
       "   const  Gini_Index\n",
       "0    1.0        53.7\n",
       "1    1.0        30.2\n",
       "2    1.0        46.2\n",
       "3    1.0        32.7\n",
       "4    1.0        36.5"
      ]
     },
     "execution_count": 3,
     "metadata": {},
     "output_type": "execute_result"
    }
   ],
   "source": [
    "import statsmodels.api as sm\n",
    "X = sm.add_constant( data['Gini_Index'] )\n",
    "X.head(5)"
   ]
  },
  {
   "cell_type": "code",
   "execution_count": 5,
   "id": "c0a22e61",
   "metadata": {},
   "outputs": [
    {
     "data": {
      "text/plain": [
       "0    77\n",
       "1    53\n",
       "2    40\n",
       "3    47\n",
       "4    38\n",
       "Name: Corruption_Index, dtype: int64"
      ]
     },
     "execution_count": 5,
     "metadata": {},
     "output_type": "execute_result"
    }
   ],
   "source": [
    "Y = data['Corruption_Index']\n",
    "Y.head()"
   ]
  },
  {
   "cell_type": "code",
   "execution_count": 8,
   "id": "6732a3d3",
   "metadata": {},
   "outputs": [
    {
     "name": "stdout",
     "output_type": "stream",
     "text": [
      "const         95.222379\n",
      "Gini_Index    -0.897565\n",
      "dtype: float64\n"
     ]
    }
   ],
   "source": [
    "from sklearn.model_selection import train_test_split\n",
    "train_X, test_X, train_y, test_y = train_test_split( X ,Y,train_size = 0.8,random_state = 100 )\n",
    "LR_lm = sm.OLS( train_y, train_X ).fit()\n",
    "print( LR_lm.params )"
   ]
  },
  {
   "cell_type": "code",
   "execution_count": 9,
   "id": "7e337c3f",
   "metadata": {},
   "outputs": [
    {
     "name": "stdout",
     "output_type": "stream",
     "text": [
      "                            OLS Regression Results                            \n",
      "==============================================================================\n",
      "Dep. Variable:       Corruption_Index   R-squared:                       0.132\n",
      "Model:                            OLS   Adj. R-squared:                  0.070\n",
      "Method:                 Least Squares   F-statistic:                     2.126\n",
      "Date:                Wed, 20 Oct 2021   Prob (F-statistic):              0.167\n",
      "Time:                        19:43:24   Log-Likelihood:                -68.261\n",
      "No. Observations:                  16   AIC:                             140.5\n",
      "Df Residuals:                      14   BIC:                             142.1\n",
      "Df Model:                           1                                         \n",
      "Covariance Type:            nonrobust                                         \n",
      "==============================================================================\n",
      "                 coef    std err          t      P>|t|      [0.025      0.975]\n",
      "------------------------------------------------------------------------------\n",
      "const         95.2224     21.692      4.390      0.001      48.698     141.747\n",
      "Gini_Index    -0.8976      0.616     -1.458      0.167      -2.218       0.423\n",
      "==============================================================================\n",
      "Omnibus:                        1.936   Durbin-Watson:                   2.195\n",
      "Prob(Omnibus):                  0.380   Jarque-Bera (JB):                0.999\n",
      "Skew:                          -0.169   Prob(JB):                        0.607\n",
      "Kurtosis:                       1.823   Cond. No.                         166.\n",
      "==============================================================================\n",
      "\n",
      "Notes:\n",
      "[1] Standard Errors assume that the covariance matrix of the errors is correctly specified.\n"
     ]
    },
    {
     "name": "stderr",
     "output_type": "stream",
     "text": [
      "/Users/harshitaggarwal/opt/anaconda3/lib/python3.8/site-packages/scipy/stats/stats.py:1603: UserWarning: kurtosistest only valid for n>=20 ... continuing anyway, n=16\n",
      "  warnings.warn(\"kurtosistest only valid for n>=20 ... continuing \"\n"
     ]
    }
   ],
   "source": [
    "print(LR_lm.summary())"
   ]
  },
  {
   "cell_type": "code",
   "execution_count": 10,
   "id": "fb754cb7",
   "metadata": {},
   "outputs": [],
   "source": [
    "import matplotlib.pyplot as plt\n",
    "import seaborn as sn\n",
    "%matplotlib inline"
   ]
  },
  {
   "cell_type": "code",
   "execution_count": 12,
   "id": "e1f5831b",
   "metadata": {},
   "outputs": [
    {
     "data": {
      "text/plain": [
       "<Figure size 576x432 with 0 Axes>"
      ]
     },
     "metadata": {},
     "output_type": "display_data"
    },
    {
     "data": {
      "image/png": "[encoded data removed]",
      "text/plain": [
       "<Figure size 432x288 with 1 Axes>"
      ]
     },
     "metadata": {
      "needs_background": "light"
     },
     "output_type": "display_data"
    }
   ],
   "source": [
    "LR_resid = LR_lm.resid\n",
    "probplot = sm.ProbPlot( LR_resid, fit = True )\n",
    "plt.figure( figsize = (8, 6) )\n",
    "probplot.ppplot( line='45' )\n",
    "plt.title( \"Fig 1 - Normal P-P Plot of Regression Standardized Residuals\" )\n",
    "plt.show()"
   ]
  },
  {
   "cell_type": "code",
   "execution_count": 14,
   "id": "dd375f8d",
   "metadata": {},
   "outputs": [
    {
     "data": {
      "text/html": [
       "<div>\n",
       "<style scoped>\n",
       "    .dataframe tbody tr th:only-of-type {\n",
       "        vertical-align: middle;\n",
       "    }\n",
       "\n",
       "    .dataframe tbody tr th {\n",
       "        vertical-align: top;\n",
       "    }\n",
       "\n",
       "    .dataframe thead th {\n",
       "        text-align: right;\n",
       "    }\n",
       "</style>\n",
       "<table border=\"1\" class=\"dataframe\">\n",
       "  <thead>\n",
       "    <tr style=\"text-align: right;\">\n",
       "      <th></th>\n",
       "      <th>Country</th>\n",
       "      <th>Corruption_Index</th>\n",
       "      <th>Gini_Index</th>\n",
       "      <th>z_score_corruption</th>\n",
       "    </tr>\n",
       "  </thead>\n",
       "  <tbody>\n",
       "  </tbody>\n",
       "</table>\n",
       "</div>"
      ],
      "text/plain": [
       "Empty DataFrame\n",
       "Columns: [Country, Corruption_Index, Gini_Index, z_score_corruption]\n",
       "Index: []"
      ]
     },
     "execution_count": 14,
     "metadata": {},
     "output_type": "execute_result"
    }
   ],
   "source": [
    "from scipy.stats import zscore\n",
    "data['z_score_corruption'] = zscore( data.Corruption_Index )\n",
    "data[ (data.z_score_corruption > 3.0) | (data.z_score_corruption < -3.0) ]"
   ]
  },
  {
   "cell_type": "code",
   "execution_count": 17,
   "id": "bc443e71",
   "metadata": {},
   "outputs": [
    {
     "data": {
      "text/plain": [
       "0.09564052280706992"
      ]
     },
     "execution_count": 17,
     "metadata": {},
     "output_type": "execute_result"
    }
   ],
   "source": [
    "import numpy as np\n",
    "\n",
    "pred_y = LR_lm.predict( test_X )\n",
    "from sklearn.metrics import r2_score, mean_squared_error\n",
    "np.abs(r2_score(test_y, pred_y))"
   ]
  },
  {
   "cell_type": "code",
   "execution_count": 18,
   "id": "61cb136a",
   "metadata": {},
   "outputs": [
    {
     "data": {
      "text/plain": [
       "21.53262175080755"
      ]
     },
     "execution_count": 18,
     "metadata": {},
     "output_type": "execute_result"
    }
   ],
   "source": [
    "np.sqrt(mean_squared_error(test_y, pred_y))"
   ]
  },
  {
   "cell_type": "code",
   "execution_count": 21,
   "id": "d443f637",
   "metadata": {},
   "outputs": [
    {
     "data": {
      "text/html": [
       "<div>\n",
       "<style scoped>\n",
       "    .dataframe tbody tr th:only-of-type {\n",
       "        vertical-align: middle;\n",
       "    }\n",
       "\n",
       "    .dataframe tbody tr th {\n",
       "        vertical-align: top;\n",
       "    }\n",
       "\n",
       "    .dataframe thead th {\n",
       "        text-align: right;\n",
       "    }\n",
       "</style>\n",
       "<table border=\"1\" class=\"dataframe\">\n",
       "  <thead>\n",
       "    <tr style=\"text-align: right;\">\n",
       "      <th></th>\n",
       "      <th>Gini Index</th>\n",
       "      <th>pred_y</th>\n",
       "      <th>pred_y_left</th>\n",
       "      <th>pred_y_right</th>\n",
       "    </tr>\n",
       "  </thead>\n",
       "  <tbody>\n",
       "    <tr>\n",
       "      <th>17</th>\n",
       "      <td>42.7</td>\n",
       "      <td>56.896373</td>\n",
       "      <td>22.252720</td>\n",
       "      <td>91.540026</td>\n",
       "    </tr>\n",
       "    <tr>\n",
       "      <th>19</th>\n",
       "      <td>39.4</td>\n",
       "      <td>59.858336</td>\n",
       "      <td>25.963055</td>\n",
       "      <td>93.753617</td>\n",
       "    </tr>\n",
       "    <tr>\n",
       "      <th>11</th>\n",
       "      <td>27.5</td>\n",
       "      <td>70.539354</td>\n",
       "      <td>36.239028</td>\n",
       "      <td>104.839680</td>\n",
       "    </tr>\n",
       "    <tr>\n",
       "      <th>18</th>\n",
       "      <td>34.2</td>\n",
       "      <td>64.525672</td>\n",
       "      <td>31.059073</td>\n",
       "      <td>97.992270</td>\n",
       "    </tr>\n",
       "  </tbody>\n",
       "</table>\n",
       "</div>"
      ],
      "text/plain": [
       "    Gini Index     pred_y  pred_y_left  pred_y_right\n",
       "17        42.7  56.896373    22.252720     91.540026\n",
       "19        39.4  59.858336    25.963055     93.753617\n",
       "11        27.5  70.539354    36.239028    104.839680\n",
       "18        34.2  64.525672    31.059073     97.992270"
      ]
     },
     "execution_count": 21,
     "metadata": {},
     "output_type": "execute_result"
    }
   ],
   "source": [
    "from statsmodels.sandbox.regression.predstd import wls_prediction_std\n",
    "# Predict the y values\n",
    "pred_y = LR_lm.predict( test_X )\n",
    "# Predict the low and high interval values for y\n",
    "_, pred_y_low, pred_y_high = wls_prediction_std( LR_lm,\n",
    "test_X,\n",
    "alpha = 0.1) #90 % confidence interval\n",
    "# Store all the values in a dataframe\n",
    "pred_y_df = pd.DataFrame( { 'Gini Index': test_X['Gini_Index'],\n",
    "'pred_y': pred_y,\n",
    "'pred_y_left': pred_y_low,\n",
    "'pred_y_right': pred_y_high } )\n",
    "\n",
    "pred_y_df\n"
   ]
  },
  {
   "cell_type": "code",
   "execution_count": 28,
   "id": "7cf12254",
   "metadata": {},
   "outputs": [
    {
     "data": {
      "text/html": [
       "<div>\n",
       "<style scoped>\n",
       "    .dataframe tbody tr th:only-of-type {\n",
       "        vertical-align: middle;\n",
       "    }\n",
       "\n",
       "    .dataframe tbody tr th {\n",
       "        vertical-align: top;\n",
       "    }\n",
       "\n",
       "    .dataframe thead th {\n",
       "        text-align: right;\n",
       "    }\n",
       "</style>\n",
       "<table border=\"1\" class=\"dataframe\">\n",
       "  <thead>\n",
       "    <tr style=\"text-align: right;\">\n",
       "      <th></th>\n",
       "      <th>Corruption_Index</th>\n",
       "      <th>Gini_Index</th>\n",
       "      <th>z_score_corruption</th>\n",
       "    </tr>\n",
       "  </thead>\n",
       "  <tbody>\n",
       "    <tr>\n",
       "      <th>Corruption_Index</th>\n",
       "      <td>1.00000</td>\n",
       "      <td>-0.46391</td>\n",
       "      <td>1.00000</td>\n",
       "    </tr>\n",
       "    <tr>\n",
       "      <th>Gini_Index</th>\n",
       "      <td>-0.46391</td>\n",
       "      <td>1.00000</td>\n",
       "      <td>-0.46391</td>\n",
       "    </tr>\n",
       "    <tr>\n",
       "      <th>z_score_corruption</th>\n",
       "      <td>1.00000</td>\n",
       "      <td>-0.46391</td>\n",
       "      <td>1.00000</td>\n",
       "    </tr>\n",
       "  </tbody>\n",
       "</table>\n",
       "</div>"
      ],
      "text/plain": [
       "                    Corruption_Index  Gini_Index  z_score_corruption\n",
       "Corruption_Index             1.00000    -0.46391             1.00000\n",
       "Gini_Index                  -0.46391     1.00000            -0.46391\n",
       "z_score_corruption           1.00000    -0.46391             1.00000"
      ]
     },
     "execution_count": 28,
     "metadata": {},
     "output_type": "execute_result"
    }
   ],
   "source": [
    "data.corr()"
   ]
  },
  {
   "cell_type": "markdown",
   "id": "d0423a61",
   "metadata": {},
   "source": [
    "For every increase in the Gini Index the Corruption Perception Index decrease by -0.46391"
   ]
  },
  {
   "cell_type": "markdown",
   "id": "4ba43566",
   "metadata": {},
   "source": [
    "The R-squared shows that 13.2% of the variability in the corruption perception index is explained by the Gini index"
   ]
  }
 ],
 "metadata": {
  "kernelspec": {
   "display_name": "Python 3",
   "language": "python",
   "name": "python3"
  },
  "language_info": {
   "codemirror_mode": {
    "name": "ipython",
    "version": 3
   },
   "file_extension": ".py",
   "mimetype": "text/x-python",
   "name": "python",
   "nbconvert_exporter": "python",
   "pygments_lexer": "ipython3",
   "version": "3.8.8"
  }
 },
 "nbformat": 4,
 "nbformat_minor": 5
}
