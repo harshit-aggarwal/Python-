{
 "cells": [
  {
   "cell_type": "code",
   "execution_count": null,
   "id": "94c704cc",
   "metadata": {},
   "outputs": [],
   "source": [
    "# Q 4\n"
   ]
  },
  {
   "cell_type": "markdown",
   "id": "3043f5b5",
   "metadata": {},
   "source": [
    "Part A: Read ‘NewYork.xlsx’ data set contains the school level average SAT critical reading (CR), math (M), and writing (W) scores for the graduating seniors from 100 high schools in New York City. The data set also records the number of SAT test takers (Test Takers) from each school.\n",
    "\n",
    "Task 1: Perform k-means clustering to group the 100 high schools into four clusters on the critical reading, math, and writing scores. Is data standardization necessary in this case? What are the size and cluster centre values of the largest cluster? Which cluster has the fewest average number of test takers?\n",
    "\n",
    "Task 2: Select only the schools with at least 200 SAT test takers and repeat the cluster analysis performed in Task 1. What are the size and cluster centre values of the largest cluster?\n",
    "\n",
    "Part B: Read ‘BirthLife.xlsx’ data file contains information on the following variables for 10 countries in 2010: country name (Country Name), life expectancy (Life Exp in years), birth rate (Birth Rate in percent), GNI per capita (GNI in $), and level of development (Development). Construct a scatterplot of birth rate against life expectancy that also incorporates the Development variable (categorical)\n",
    "\n"
   ]
  },
  {
   "cell_type": "code",
   "execution_count": 34,
   "id": "5dbbb45e",
   "metadata": {},
   "outputs": [],
   "source": [
    "# Task 1"
   ]
  },
  {
   "cell_type": "code",
   "execution_count": 1,
   "id": "fc1b8a21",
   "metadata": {},
   "outputs": [
    {
     "data": {
      "text/html": [
       "<div>\n",
       "<style scoped>\n",
       "    .dataframe tbody tr th:only-of-type {\n",
       "        vertical-align: middle;\n",
       "    }\n",
       "\n",
       "    .dataframe tbody tr th {\n",
       "        vertical-align: top;\n",
       "    }\n",
       "\n",
       "    .dataframe thead th {\n",
       "        text-align: right;\n",
       "    }\n",
       "</style>\n",
       "<table border=\"1\" class=\"dataframe\">\n",
       "  <thead>\n",
       "    <tr style=\"text-align: right;\">\n",
       "      <th></th>\n",
       "      <th>SCHOOL NAME</th>\n",
       "      <th>Test Takers</th>\n",
       "      <th>CR</th>\n",
       "      <th>M</th>\n",
       "      <th>W</th>\n",
       "    </tr>\n",
       "  </thead>\n",
       "  <tbody>\n",
       "    <tr>\n",
       "      <th>0</th>\n",
       "      <td>A. PHILIP RANDOLPH CAMPUS HIGH SCHOOL</td>\n",
       "      <td>228</td>\n",
       "      <td>430</td>\n",
       "      <td>456</td>\n",
       "      <td>423</td>\n",
       "    </tr>\n",
       "    <tr>\n",
       "      <th>1</th>\n",
       "      <td>ABRAHAM LINCOLN HIGH SCHOOL</td>\n",
       "      <td>475</td>\n",
       "      <td>396</td>\n",
       "      <td>437</td>\n",
       "      <td>393</td>\n",
       "    </tr>\n",
       "    <tr>\n",
       "      <th>2</th>\n",
       "      <td>ACADEMY FOR CAREERS IN TELEVISION AND FILM</td>\n",
       "      <td>98</td>\n",
       "      <td>410</td>\n",
       "      <td>440</td>\n",
       "      <td>405</td>\n",
       "    </tr>\n",
       "    <tr>\n",
       "      <th>3</th>\n",
       "      <td>ACADEMY OF AMERICAN STUDIES</td>\n",
       "      <td>135</td>\n",
       "      <td>487</td>\n",
       "      <td>492</td>\n",
       "      <td>491</td>\n",
       "    </tr>\n",
       "    <tr>\n",
       "      <th>4</th>\n",
       "      <td>ART AND DESIGN HIGH SCHOOL</td>\n",
       "      <td>270</td>\n",
       "      <td>444</td>\n",
       "      <td>441</td>\n",
       "      <td>430</td>\n",
       "    </tr>\n",
       "  </tbody>\n",
       "</table>\n",
       "</div>"
      ],
      "text/plain": [
       "                                  SCHOOL NAME  Test Takers   CR    M    W\n",
       "0       A. PHILIP RANDOLPH CAMPUS HIGH SCHOOL          228  430  456  423\n",
       "1                 ABRAHAM LINCOLN HIGH SCHOOL          475  396  437  393\n",
       "2  ACADEMY FOR CAREERS IN TELEVISION AND FILM           98  410  440  405\n",
       "3                 ACADEMY OF AMERICAN STUDIES          135  487  492  491\n",
       "4                  ART AND DESIGN HIGH SCHOOL          270  444  441  430"
      ]
     },
     "execution_count": 1,
     "metadata": {},
     "output_type": "execute_result"
    }
   ],
   "source": [
    "import pandas as pd\n",
    "\n",
    "NY = pd.read_excel('NewYork.xlsx')\n",
    "NY.head()"
   ]
  },
  {
   "cell_type": "code",
   "execution_count": 3,
   "id": "256402a5",
   "metadata": {},
   "outputs": [
    {
     "data": {
      "text/plain": [
       "array([[-0.09151445, -0.07699911, -0.10764695],\n",
       "       [-0.58776503, -0.34059965, -0.51903655],\n",
       "       [-0.38342656, -0.29897851, -0.35448071],\n",
       "       [ 0.74043506,  0.42245455,  0.82483616],\n",
       "       [ 0.11282403, -0.2851048 , -0.01165604]])"
      ]
     },
     "execution_count": 3,
     "metadata": {},
     "output_type": "execute_result"
    }
   ],
   "source": [
    "from sklearn.preprocessing import StandardScaler\n",
    "scaler = StandardScaler()\n",
    "# https://scikitlearn.org/stable/modules/generated/sklearn.preprocessing.StandardScaler.html\n",
    "NY_scaled = scaler.fit_transform(NY[[\"CR\", \"M\", \"W\"]] )\n",
    "NY_scaled[0:5]\n"
   ]
  },
  {
   "cell_type": "markdown",
   "id": "6c776b99",
   "metadata": {},
   "source": [
    "Data standardization is important because we do not know if each portion of the exam has the same total score. For example for CR max points might be 800 while for Writing it might be 600"
   ]
  },
  {
   "cell_type": "code",
   "execution_count": 10,
   "id": "8f5bcbd6",
   "metadata": {},
   "outputs": [],
   "source": [
    "from sklearn.cluster import KMeans\n",
    "clusters = KMeans( 4, random_state=42 )\n",
    "clusters.fit( NY_scaled )\n",
    "NY[\"clusterid\"] = clusters.labels_\n"
   ]
  },
  {
   "cell_type": "code",
   "execution_count": 11,
   "id": "6e263fb9",
   "metadata": {},
   "outputs": [
    {
     "data": {
      "text/plain": [
       "clusterid\n",
       "0    29\n",
       "1     8\n",
       "2    54\n",
       "3     9\n",
       "dtype: int64"
      ]
     },
     "execution_count": 11,
     "metadata": {},
     "output_type": "execute_result"
    }
   ],
   "source": [
    "NY.groupby('clusterid').size()"
   ]
  },
  {
   "cell_type": "markdown",
   "id": "581bb00e",
   "metadata": {},
   "source": [
    "The largest cluster is clusterid == 2"
   ]
  },
  {
   "cell_type": "code",
   "execution_count": 16,
   "id": "2add090e",
   "metadata": {},
   "outputs": [
    {
     "name": "stdout",
     "output_type": "stream",
     "text": [
      "The center value of largest cluster\n"
     ]
    },
    {
     "data": {
      "text/plain": [
       "array([-0.67398722, -0.61165089, -0.68232268])"
      ]
     },
     "execution_count": 16,
     "metadata": {},
     "output_type": "execute_result"
    }
   ],
   "source": [
    "print(\"The center value of largest cluster\")\n",
    "clusters.cluster_centers_[2]\n"
   ]
  },
  {
   "cell_type": "code",
   "execution_count": 19,
   "id": "05fd4540",
   "metadata": {},
   "outputs": [
    {
     "data": {
      "text/html": [
       "<div>\n",
       "<style scoped>\n",
       "    .dataframe tbody tr th:only-of-type {\n",
       "        vertical-align: middle;\n",
       "    }\n",
       "\n",
       "    .dataframe tbody tr th {\n",
       "        vertical-align: top;\n",
       "    }\n",
       "\n",
       "    .dataframe thead tr th {\n",
       "        text-align: left;\n",
       "    }\n",
       "</style>\n",
       "<table border=\"1\" class=\"dataframe\">\n",
       "  <thead>\n",
       "    <tr>\n",
       "      <th></th>\n",
       "      <th>clusterid</th>\n",
       "      <th colspan=\"2\" halign=\"left\">Test Takers</th>\n",
       "      <th colspan=\"2\" halign=\"left\">CR</th>\n",
       "      <th colspan=\"2\" halign=\"left\">M</th>\n",
       "      <th colspan=\"2\" halign=\"left\">W</th>\n",
       "      <th colspan=\"2\" halign=\"left\">clusterid_new</th>\n",
       "    </tr>\n",
       "    <tr>\n",
       "      <th></th>\n",
       "      <th></th>\n",
       "      <th>mean</th>\n",
       "      <th>std</th>\n",
       "      <th>mean</th>\n",
       "      <th>std</th>\n",
       "      <th>mean</th>\n",
       "      <th>std</th>\n",
       "      <th>mean</th>\n",
       "      <th>std</th>\n",
       "      <th>mean</th>\n",
       "      <th>std</th>\n",
       "    </tr>\n",
       "  </thead>\n",
       "  <tbody>\n",
       "    <tr>\n",
       "      <th>0</th>\n",
       "      <td>0</td>\n",
       "      <td>207.034483</td>\n",
       "      <td>106.668540</td>\n",
       "      <td>448.344828</td>\n",
       "      <td>18.853336</td>\n",
       "      <td>469.862069</td>\n",
       "      <td>22.685307</td>\n",
       "      <td>443.551724</td>\n",
       "      <td>20.011758</td>\n",
       "      <td>0</td>\n",
       "      <td>0.0</td>\n",
       "    </tr>\n",
       "    <tr>\n",
       "      <th>1</th>\n",
       "      <td>1</td>\n",
       "      <td>167.125000</td>\n",
       "      <td>75.425342</td>\n",
       "      <td>610.250000</td>\n",
       "      <td>24.435045</td>\n",
       "      <td>633.500000</td>\n",
       "      <td>37.500476</td>\n",
       "      <td>613.250000</td>\n",
       "      <td>23.001553</td>\n",
       "      <td>1</td>\n",
       "      <td>0.0</td>\n",
       "    </tr>\n",
       "    <tr>\n",
       "      <th>2</th>\n",
       "      <td>2</td>\n",
       "      <td>211.129630</td>\n",
       "      <td>127.806760</td>\n",
       "      <td>390.092593</td>\n",
       "      <td>23.388651</td>\n",
       "      <td>417.462963</td>\n",
       "      <td>38.113887</td>\n",
       "      <td>381.092593</td>\n",
       "      <td>22.635144</td>\n",
       "      <td>2</td>\n",
       "      <td>0.0</td>\n",
       "    </tr>\n",
       "    <tr>\n",
       "      <th>3</th>\n",
       "      <td>3</td>\n",
       "      <td>144.666667</td>\n",
       "      <td>51.831458</td>\n",
       "      <td>519.777778</td>\n",
       "      <td>15.809631</td>\n",
       "      <td>546.444444</td>\n",
       "      <td>35.231772</td>\n",
       "      <td>526.333333</td>\n",
       "      <td>19.780040</td>\n",
       "      <td>3</td>\n",
       "      <td>0.0</td>\n",
       "    </tr>\n",
       "  </tbody>\n",
       "</table>\n",
       "</div>"
      ],
      "text/plain": [
       "  clusterid Test Takers                      CR                      M  \\\n",
       "                   mean         std        mean        std        mean   \n",
       "0         0  207.034483  106.668540  448.344828  18.853336  469.862069   \n",
       "1         1  167.125000   75.425342  610.250000  24.435045  633.500000   \n",
       "2         2  211.129630  127.806760  390.092593  23.388651  417.462963   \n",
       "3         3  144.666667   51.831458  519.777778  15.809631  546.444444   \n",
       "\n",
       "                       W            clusterid_new       \n",
       "         std        mean        std          mean  std  \n",
       "0  22.685307  443.551724  20.011758             0  0.0  \n",
       "1  37.500476  613.250000  23.001553             1  0.0  \n",
       "2  38.113887  381.092593  22.635144             2  0.0  \n",
       "3  35.231772  526.333333  19.780040             3  0.0  "
      ]
     },
     "execution_count": 19,
     "metadata": {},
     "output_type": "execute_result"
    }
   ],
   "source": [
    "NY.groupby('clusterid').agg([\"mean\", \"std\"]).reset_index()"
   ]
  },
  {
   "cell_type": "markdown",
   "id": "32ecc624",
   "metadata": {},
   "source": [
    "ClusterID == 3 has the fewest average number of test takers"
   ]
  },
  {
   "cell_type": "code",
   "execution_count": 24,
   "id": "a14734ba",
   "metadata": {},
   "outputs": [
    {
     "data": {
      "text/html": [
       "<div>\n",
       "<style scoped>\n",
       "    .dataframe tbody tr th:only-of-type {\n",
       "        vertical-align: middle;\n",
       "    }\n",
       "\n",
       "    .dataframe tbody tr th {\n",
       "        vertical-align: top;\n",
       "    }\n",
       "\n",
       "    .dataframe thead th {\n",
       "        text-align: right;\n",
       "    }\n",
       "</style>\n",
       "<table border=\"1\" class=\"dataframe\">\n",
       "  <thead>\n",
       "    <tr style=\"text-align: right;\">\n",
       "      <th></th>\n",
       "      <th>SCHOOL NAME</th>\n",
       "      <th>Test Takers</th>\n",
       "      <th>CR</th>\n",
       "      <th>M</th>\n",
       "      <th>W</th>\n",
       "      <th>clusterid_new</th>\n",
       "      <th>clusterid</th>\n",
       "    </tr>\n",
       "  </thead>\n",
       "  <tbody>\n",
       "    <tr>\n",
       "      <th>88</th>\n",
       "      <td>STATEN ISLAND TECHNICAL HIGH SCHOOL</td>\n",
       "      <td>227</td>\n",
       "      <td>635</td>\n",
       "      <td>682</td>\n",
       "      <td>636</td>\n",
       "      <td>1</td>\n",
       "      <td>1</td>\n",
       "    </tr>\n",
       "    <tr>\n",
       "      <th>90</th>\n",
       "      <td>THE HIGH SCHOOL OF FASHION INDUSTRIES</td>\n",
       "      <td>335</td>\n",
       "      <td>423</td>\n",
       "      <td>423</td>\n",
       "      <td>411</td>\n",
       "      <td>2</td>\n",
       "      <td>2</td>\n",
       "    </tr>\n",
       "    <tr>\n",
       "      <th>93</th>\n",
       "      <td>THOMAS A. EDISON CAREER AND TECHNICAL EDUCATIO...</td>\n",
       "      <td>422</td>\n",
       "      <td>452</td>\n",
       "      <td>478</td>\n",
       "      <td>442</td>\n",
       "      <td>0</td>\n",
       "      <td>0</td>\n",
       "    </tr>\n",
       "    <tr>\n",
       "      <th>94</th>\n",
       "      <td>TOWNSEND HARRIS HIGH SCHOOL</td>\n",
       "      <td>278</td>\n",
       "      <td>621</td>\n",
       "      <td>651</td>\n",
       "      <td>638</td>\n",
       "      <td>1</td>\n",
       "      <td>1</td>\n",
       "    </tr>\n",
       "    <tr>\n",
       "      <th>97</th>\n",
       "      <td>WILLIAM CULLEN BRYANT HIGH SCHOOL</td>\n",
       "      <td>395</td>\n",
       "      <td>414</td>\n",
       "      <td>449</td>\n",
       "      <td>412</td>\n",
       "      <td>2</td>\n",
       "      <td>2</td>\n",
       "    </tr>\n",
       "  </tbody>\n",
       "</table>\n",
       "</div>"
      ],
      "text/plain": [
       "                                          SCHOOL NAME  Test Takers   CR    M  \\\n",
       "88                STATEN ISLAND TECHNICAL HIGH SCHOOL          227  635  682   \n",
       "90              THE HIGH SCHOOL OF FASHION INDUSTRIES          335  423  423   \n",
       "93  THOMAS A. EDISON CAREER AND TECHNICAL EDUCATIO...          422  452  478   \n",
       "94                        TOWNSEND HARRIS HIGH SCHOOL          278  621  651   \n",
       "97                  WILLIAM CULLEN BRYANT HIGH SCHOOL          395  414  449   \n",
       "\n",
       "      W  clusterid_new  clusterid  \n",
       "88  636              1          1  \n",
       "90  411              2          2  \n",
       "93  442              0          0  \n",
       "94  638              1          1  \n",
       "97  412              2          2  "
      ]
     },
     "execution_count": 24,
     "metadata": {},
     "output_type": "execute_result"
    }
   ],
   "source": [
    "NY2 = NY[NY['Test Takers'] >= 200]"
   ]
  },
  {
   "cell_type": "code",
   "execution_count": 28,
   "id": "ce32efb3",
   "metadata": {},
   "outputs": [
    {
     "data": {
      "text/plain": [
       "array([[-0.09389069, -0.12405571, -0.09991473],\n",
       "       [-0.64700908, -0.41974406, -0.54634225],\n",
       "       [ 0.13386395, -0.35749388,  0.00425169],\n",
       "       [ 0.15013214,  0.49844607, -0.09991473],\n",
       "       [ 2.29753296,  1.72788709,  2.41496031]])"
      ]
     },
     "execution_count": 28,
     "metadata": {},
     "output_type": "execute_result"
    }
   ],
   "source": [
    "from sklearn.preprocessing import StandardScaler\n",
    "scaler = StandardScaler()\n",
    "# https://scikitlearn.org/stable/modules/generated/sklearn.preprocessing.StandardScaler.html\n",
    "NY2_scaled = scaler.fit_transform(NY2[[\"CR\", \"M\", \"W\"]] )\n",
    "NY2_scaled[0:5]"
   ]
  },
  {
   "cell_type": "code",
   "execution_count": 31,
   "id": "d0f5df32",
   "metadata": {},
   "outputs": [
    {
     "name": "stderr",
     "output_type": "stream",
     "text": [
      "<ipython-input-31-697f5ee9ddd7>:4: SettingWithCopyWarning: \n",
      "A value is trying to be set on a copy of a slice from a DataFrame.\n",
      "Try using .loc[row_indexer,col_indexer] = value instead\n",
      "\n",
      "See the caveats in the documentation: https://pandas.pydata.org/pandas-docs/stable/user_guide/indexing.html#returning-a-view-versus-a-copy\n",
      "  NY2[\"clusterid\"] = clusters.labels_\n"
     ]
    }
   ],
   "source": [
    "from sklearn.cluster import KMeans\n",
    "clusters = KMeans( 4, random_state=42 )\n",
    "clusters.fit( NY2_scaled )\n",
    "NY2[\"clusterid\"] = clusters.labels_"
   ]
  },
  {
   "cell_type": "code",
   "execution_count": 32,
   "id": "a97619e4",
   "metadata": {},
   "outputs": [
    {
     "data": {
      "text/plain": [
       "clusterid\n",
       "0    21\n",
       "1     2\n",
       "2    10\n",
       "3     2\n",
       "dtype: int64"
      ]
     },
     "execution_count": 32,
     "metadata": {},
     "output_type": "execute_result"
    }
   ],
   "source": [
    "NY2.groupby('clusterid').size()"
   ]
  },
  {
   "cell_type": "markdown",
   "id": "4d806892",
   "metadata": {},
   "source": [
    "The largest cluster is clusterid == 0"
   ]
  },
  {
   "cell_type": "code",
   "execution_count": 33,
   "id": "cfb71518",
   "metadata": {},
   "outputs": [
    {
     "name": "stdout",
     "output_type": "stream",
     "text": [
      "The center value of largest cluster\n"
     ]
    },
    {
     "data": {
      "text/plain": [
       "array([-0.54397722, -0.50644966, -0.53075272])"
      ]
     },
     "execution_count": 33,
     "metadata": {},
     "output_type": "execute_result"
    }
   ],
   "source": [
    "print(\"The center value of largest cluster\")\n",
    "clusters.cluster_centers_[0]"
   ]
  },
  {
   "cell_type": "markdown",
   "id": "c3692718",
   "metadata": {},
   "source": [
    " Task 2\n",
    "\n",
    " Part B: Read ‘BirthLife.xlsx’ data file contains information on the following variables for 10 countries in \n",
    " 2010: country name (Country Name), life expectancy (Life Exp in years), birth rate (Birth Rate in percent), \n",
    " GNI per capita (GNI in $), and level of development (Development). Construct a scatterplot of birth rate against\n",
    " life expectancy that also incorporates the Development variable (categorical)"
   ]
  },
  {
   "cell_type": "code",
   "execution_count": 36,
   "id": "77af1443",
   "metadata": {},
   "outputs": [
    {
     "data": {
      "text/html": [
       "<div>\n",
       "<style scoped>\n",
       "    .dataframe tbody tr th:only-of-type {\n",
       "        vertical-align: middle;\n",
       "    }\n",
       "\n",
       "    .dataframe tbody tr th {\n",
       "        vertical-align: top;\n",
       "    }\n",
       "\n",
       "    .dataframe thead th {\n",
       "        text-align: right;\n",
       "    }\n",
       "</style>\n",
       "<table border=\"1\" class=\"dataframe\">\n",
       "  <thead>\n",
       "    <tr style=\"text-align: right;\">\n",
       "      <th></th>\n",
       "      <th>Country Name</th>\n",
       "      <th>Life Exp</th>\n",
       "      <th>Birth Rate</th>\n",
       "      <th>GNI</th>\n",
       "      <th>Development</th>\n",
       "    </tr>\n",
       "  </thead>\n",
       "  <tbody>\n",
       "    <tr>\n",
       "      <th>0</th>\n",
       "      <td>Congo, Dem. Rep.</td>\n",
       "      <td>50.002878</td>\n",
       "      <td>45.964</td>\n",
       "      <td>130</td>\n",
       "      <td>Developing</td>\n",
       "    </tr>\n",
       "    <tr>\n",
       "      <th>1</th>\n",
       "      <td>India</td>\n",
       "      <td>62.593390</td>\n",
       "      <td>26.463</td>\n",
       "      <td>440</td>\n",
       "      <td>Developing</td>\n",
       "    </tr>\n",
       "    <tr>\n",
       "      <th>2</th>\n",
       "      <td>South Africa</td>\n",
       "      <td>56.368317</td>\n",
       "      <td>24.329</td>\n",
       "      <td>3070</td>\n",
       "      <td>Developing</td>\n",
       "    </tr>\n",
       "    <tr>\n",
       "      <th>3</th>\n",
       "      <td>China</td>\n",
       "      <td>71.995585</td>\n",
       "      <td>14.030</td>\n",
       "      <td>940</td>\n",
       "      <td>Developing</td>\n",
       "    </tr>\n",
       "    <tr>\n",
       "      <th>4</th>\n",
       "      <td>Pakistan</td>\n",
       "      <td>62.758171</td>\n",
       "      <td>32.035</td>\n",
       "      <td>490</td>\n",
       "      <td>Developing</td>\n",
       "    </tr>\n",
       "  </tbody>\n",
       "</table>\n",
       "</div>"
      ],
      "text/plain": [
       "       Country Name   Life Exp  Birth Rate   GNI Development\n",
       "0  Congo, Dem. Rep.  50.002878      45.964   130  Developing\n",
       "1             India  62.593390      26.463   440  Developing\n",
       "2      South Africa  56.368317      24.329  3070  Developing\n",
       "3             China  71.995585      14.030   940  Developing\n",
       "4          Pakistan  62.758171      32.035   490  Developing"
      ]
     },
     "execution_count": 36,
     "metadata": {},
     "output_type": "execute_result"
    }
   ],
   "source": [
    "import pandas as pd\n",
    "\n",
    "\n",
    "df = pd.read_excel('BirthLife.xlsx')\n",
    "df.head()"
   ]
  },
  {
   "cell_type": "code",
   "execution_count": 41,
   "id": "602465b1",
   "metadata": {},
   "outputs": [
    {
     "data": {
      "image/png": "[encoded data removed]",
      "text/plain": [
       "<Figure size 360x360 with 1 Axes>"
      ]
     },
     "metadata": {
      "needs_background": "light"
     },
     "output_type": "display_data"
    }
   ],
   "source": [
    "import seaborn as sns\n",
    "import matplotlib.pyplot as plt\n",
    "%matplotlib inline\n",
    "\n",
    "plt.figure(figsize=(5,5))\n",
    "sns.scatterplot(data=df, x=\"Birth Rate\", y=\"Life Exp\", hue=\"Development\")\n",
    "plt.show()"
   ]
  },
  {
   "cell_type": "code",
   "execution_count": null,
   "id": "36e2238f",
   "metadata": {},
   "outputs": [],
   "source": []
  }
 ],
 "metadata": {
  "kernelspec": {
   "display_name": "Python 3",
   "language": "python",
   "name": "python3"
  },
  "language_info": {
   "codemirror_mode": {
    "name": "ipython",
    "version": 3
   },
   "file_extension": ".py",
   "mimetype": "text/x-python",
   "name": "python",
   "nbconvert_exporter": "python",
   "pygments_lexer": "ipython3",
   "version": "3.8.8"
  }
 },
 "nbformat": 4,
 "nbformat_minor": 5
}
