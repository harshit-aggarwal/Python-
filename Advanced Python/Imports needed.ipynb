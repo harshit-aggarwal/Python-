{
 "cells": [
  {
   "cell_type": "code",
   "execution_count": null,
   "id": "0a81777a",
   "metadata": {},
   "outputs": [],
   "source": [
    "## Linear Regression\n",
    "\n",
    "import matplotlib.pyplot as plt\n",
    "import numpy as np\n",
    "from sklearn import datasets, linear_model\n",
    "from sklearn.metrics import mean_squared_error, r2_score\n",
    "import pandas as pd \n",
    "import statsmodels.api as sm\n",
    "from sklearn.model_selection import train_test_split\n",
    "\n",
    "# Python libraries for Visualization\n",
    "import matplotlib.pyplot as plt\n",
    "import seaborn as sn\n",
    "%matplotlib inline\n",
    "\n",
    "# Finding Z-Score for Outlier Analysis\n",
    "from scipy.stats import zscore\n",
    "\n",
    "# Prediction interval\n",
    "from statsmodels.sandbox.regression.predstd import wls_prediction_std\n",
    "\n"
   ]
  },
  {
   "cell_type": "code",
   "execution_count": null,
   "id": "efd9555a",
   "metadata": {},
   "outputs": [],
   "source": [
    "# Checking for null values\n",
    "ipl_auction_df.isnull().sum()\n"
   ]
  },
  {
   "cell_type": "code",
   "execution_count": null,
   "id": "5e1eff2c",
   "metadata": {},
   "outputs": [],
   "source": [
    "# Detecting Multicollinearity Using Variance Inflation Factors\n",
    "from statsmodels.stats.outliers_influence import variance_inflation_factor\n",
    "def get_vif_factors( X ):\n",
    "    X_matrix = X.to_numpy()\n",
    "    vif = [ variance_inflation_factor( X_matrix, i ) for i in range( X_matrix.shape[1] ) ]\n",
    "    vif_factors = pd.DataFrame()\n",
    "    vif_factors['column'] = X.columns\n",
    "    vif_factors['vif'] = vif\n",
    "    return vif_factors\n",
    "In [58]:\n"
   ]
  }
 ],
 "metadata": {
  "kernelspec": {
   "display_name": "Python 3",
   "language": "python",
   "name": "python3"
  },
  "language_info": {
   "codemirror_mode": {
    "name": "ipython",
    "version": 3
   },
   "file_extension": ".py",
   "mimetype": "text/x-python",
   "name": "python",
   "nbconvert_exporter": "python",
   "pygments_lexer": "ipython3",
   "version": "3.8.8"
  }
 },
 "nbformat": 4,
 "nbformat_minor": 5
}
