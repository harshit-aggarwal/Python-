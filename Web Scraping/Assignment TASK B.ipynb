{
 "cells": [
  {
   "cell_type": "code",
   "execution_count": 1,
   "id": "7ec0f617",
   "metadata": {},
   "outputs": [],
   "source": [
    "# Task B\n",
    "\n",
    "from pulp import *\n",
    "\n",
    "h1 = LpVariable('h1', lowBound = 0, cat ='Integer')\n",
    "h2 = LpVariable('h2', lowBound = 0, cat ='Integer')\n",
    "h3 = LpVariable('h3', lowBound = 0, cat ='Integer')"
   ]
  },
  {
   "cell_type": "code",
   "execution_count": 2,
   "id": "ab742cbc",
   "metadata": {},
   "outputs": [],
   "source": [
    "prob = LpProblem('Minimization', sense = LpMinimize)"
   ]
  },
  {
   "cell_type": "code",
   "execution_count": 3,
   "id": "2b79673e",
   "metadata": {},
   "outputs": [],
   "source": [
    "# Decision Variable\n",
    "\n",
    "prob += 190*h1 + 260*h2 + 150*h3"
   ]
  },
  {
   "cell_type": "code",
   "execution_count": 4,
   "id": "10ba822a",
   "metadata": {},
   "outputs": [],
   "source": [
    "# Constraints\n",
    "\n",
    "prob += 295*h1 + 385*h2 + 350*h3 >= 5500, 'Product 1'\n",
    "prob += 260*h1 + 375*h2 >= 4000 , 'Product 2'\n",
    "prob += h1 <= 8, 'Facility 1 running time constraint'"
   ]
  },
  {
   "cell_type": "code",
   "execution_count": 5,
   "id": "fba40310",
   "metadata": {},
   "outputs": [
    {
     "data": {
      "text/plain": [
       "Minimization:\n",
       "MINIMIZE\n",
       "190*h1 + 260*h2 + 150*h3 + 0\n",
       "SUBJECT TO\n",
       "Product_1: 295 h1 + 385 h2 + 350 h3 >= 5500\n",
       "\n",
       "Product_2: 260 h1 + 375 h2 >= 4000\n",
       "\n",
       "Facility_1_running_time_constraint: h1 <= 8\n",
       "\n",
       "VARIABLES\n",
       "0 <= h1 Integer\n",
       "0 <= h2 Integer\n",
       "0 <= h3 Integer"
      ]
     },
     "execution_count": 5,
     "metadata": {},
     "output_type": "execute_result"
    }
   ],
   "source": [
    "prob"
   ]
  },
  {
   "cell_type": "code",
   "execution_count": 6,
   "id": "75bb1a58",
   "metadata": {},
   "outputs": [
    {
     "data": {
      "text/plain": [
       "'Optimal'"
      ]
     },
     "execution_count": 6,
     "metadata": {},
     "output_type": "execute_result"
    }
   ],
   "source": [
    "status = prob.solve()\n",
    "LpStatus[status]\n",
    "\n"
   ]
  },
  {
   "cell_type": "code",
   "execution_count": 7,
   "id": "af3c2acf",
   "metadata": {},
   "outputs": [
    {
     "name": "stdout",
     "output_type": "stream",
     "text": [
      "h1 = 1.0\n",
      "h2 = 10.0\n",
      "h3 = 4.0\n"
     ]
    }
   ],
   "source": [
    "for variable in prob.variables():\n",
    "    print(variable.name, '=', variable.varValue)"
   ]
  },
  {
   "cell_type": "code",
   "execution_count": 8,
   "id": "223aa286",
   "metadata": {},
   "outputs": [
    {
     "data": {
      "text/plain": [
       "3390.0"
      ]
     },
     "execution_count": 8,
     "metadata": {},
     "output_type": "execute_result"
    }
   ],
   "source": [
    "value(prob.objective)"
   ]
  },
  {
   "cell_type": "code",
   "execution_count": 9,
   "id": "f956a00c",
   "metadata": {},
   "outputs": [
    {
     "data": {
      "text/html": [
       "<div>\n",
       "<style scoped>\n",
       "    .dataframe tbody tr th:only-of-type {\n",
       "        vertical-align: middle;\n",
       "    }\n",
       "\n",
       "    .dataframe tbody tr th {\n",
       "        vertical-align: top;\n",
       "    }\n",
       "\n",
       "    .dataframe thead th {\n",
       "        text-align: right;\n",
       "    }\n",
       "</style>\n",
       "<table border=\"1\" class=\"dataframe\">\n",
       "  <thead>\n",
       "    <tr style=\"text-align: right;\">\n",
       "      <th></th>\n",
       "      <th>name</th>\n",
       "      <th>constraints</th>\n",
       "      <th>shadow_price</th>\n",
       "      <th>slack</th>\n",
       "    </tr>\n",
       "  </thead>\n",
       "  <tbody>\n",
       "    <tr>\n",
       "      <th>0</th>\n",
       "      <td>Product_1</td>\n",
       "      <td>295*h1 + 385*h2 + 350*h3 &gt;= 5500</td>\n",
       "      <td>0.0</td>\n",
       "      <td>-45.0</td>\n",
       "    </tr>\n",
       "    <tr>\n",
       "      <th>1</th>\n",
       "      <td>Product_2</td>\n",
       "      <td>260*h1 + 375*h2 &gt;= 4000</td>\n",
       "      <td>0.0</td>\n",
       "      <td>-10.0</td>\n",
       "    </tr>\n",
       "    <tr>\n",
       "      <th>2</th>\n",
       "      <td>Facility_1_running_time_constraint</td>\n",
       "      <td>h1 &lt;= 8</td>\n",
       "      <td>0.0</td>\n",
       "      <td>7.0</td>\n",
       "    </tr>\n",
       "  </tbody>\n",
       "</table>\n",
       "</div>"
      ],
      "text/plain": [
       "                                 name                       constraints  \\\n",
       "0                           Product_1  295*h1 + 385*h2 + 350*h3 >= 5500   \n",
       "1                           Product_2           260*h1 + 375*h2 >= 4000   \n",
       "2  Facility_1_running_time_constraint                           h1 <= 8   \n",
       "\n",
       "   shadow_price  slack  \n",
       "0           0.0  -45.0  \n",
       "1           0.0  -10.0  \n",
       "2           0.0    7.0  "
      ]
     },
     "execution_count": 9,
     "metadata": {},
     "output_type": "execute_result"
    }
   ],
   "source": [
    "import pandas as pd\n",
    "\n",
    "l = []\n",
    "for name, c in prob.constraints.items():\n",
    "    l.append([name, str(prob.constraints[name]), c.pi, c.slack])\n",
    "\n",
    "pd.DataFrame(l, columns=['name', 'constraints', 'shadow_price', 'slack'])"
   ]
  },
  {
   "cell_type": "code",
   "execution_count": null,
   "id": "57917d3d",
   "metadata": {},
   "outputs": [],
   "source": []
  }
 ],
 "metadata": {
  "kernelspec": {
   "display_name": "Python 3",
   "language": "python",
   "name": "python3"
  },
  "language_info": {
   "codemirror_mode": {
    "name": "ipython",
    "version": 3
   },
   "file_extension": ".py",
   "mimetype": "text/x-python",
   "name": "python",
   "nbconvert_exporter": "python",
   "pygments_lexer": "ipython3",
   "version": "3.8.8"
  }
 },
 "nbformat": 4,
 "nbformat_minor": 5
}
