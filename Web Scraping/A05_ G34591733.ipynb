{
 "cells": [
  {
   "cell_type": "markdown",
   "id": "0d58c896",
   "metadata": {},
   "source": [
    "# PART A"
   ]
  },
  {
   "cell_type": "code",
   "execution_count": 25,
   "id": "06c5bf96",
   "metadata": {},
   "outputs": [
    {
     "data": {
      "text/html": [
       "<div>\n",
       "<style scoped>\n",
       "    .dataframe tbody tr th:only-of-type {\n",
       "        vertical-align: middle;\n",
       "    }\n",
       "\n",
       "    .dataframe tbody tr th {\n",
       "        vertical-align: top;\n",
       "    }\n",
       "\n",
       "    .dataframe thead th {\n",
       "        text-align: right;\n",
       "    }\n",
       "</style>\n",
       "<table border=\"1\" class=\"dataframe\">\n",
       "  <thead>\n",
       "    <tr style=\"text-align: right;\">\n",
       "      <th></th>\n",
       "      <th>Comp</th>\n",
       "      <th>Att</th>\n",
       "      <th>Pct</th>\n",
       "      <th>Yds</th>\n",
       "      <th>Avg</th>\n",
       "      <th>Yds/G</th>\n",
       "      <th>TD</th>\n",
       "      <th>Int</th>\n",
       "    </tr>\n",
       "  </thead>\n",
       "  <tbody>\n",
       "    <tr>\n",
       "      <th>0</th>\n",
       "      <td>107</td>\n",
       "      <td>166</td>\n",
       "      <td>45.3</td>\n",
       "      <td>1172</td>\n",
       "      <td>7.1</td>\n",
       "      <td>167.5</td>\n",
       "      <td>12</td>\n",
       "      <td>4</td>\n",
       "    </tr>\n",
       "    <tr>\n",
       "      <th>1</th>\n",
       "      <td>238</td>\n",
       "      <td>353</td>\n",
       "      <td>47.3</td>\n",
       "      <td>2829</td>\n",
       "      <td>8.0</td>\n",
       "      <td>188.7</td>\n",
       "      <td>20</td>\n",
       "      <td>4</td>\n",
       "    </tr>\n",
       "    <tr>\n",
       "      <th>2</th>\n",
       "      <td>207</td>\n",
       "      <td>347</td>\n",
       "      <td>41.9</td>\n",
       "      <td>2324</td>\n",
       "      <td>6.7</td>\n",
       "      <td>145.3</td>\n",
       "      <td>20</td>\n",
       "      <td>9</td>\n",
       "    </tr>\n",
       "    <tr>\n",
       "      <th>3</th>\n",
       "      <td>252</td>\n",
       "      <td>392</td>\n",
       "      <td>44.9</td>\n",
       "      <td>2975</td>\n",
       "      <td>7.6</td>\n",
       "      <td>198.4</td>\n",
       "      <td>22</td>\n",
       "      <td>11</td>\n",
       "    </tr>\n",
       "    <tr>\n",
       "      <th>4</th>\n",
       "      <td>66</td>\n",
       "      <td>119</td>\n",
       "      <td>38.9</td>\n",
       "      <td>760</td>\n",
       "      <td>6.4</td>\n",
       "      <td>152.0</td>\n",
       "      <td>4</td>\n",
       "      <td>4</td>\n",
       "    </tr>\n",
       "  </tbody>\n",
       "</table>\n",
       "</div>"
      ],
      "text/plain": [
       "   Comp  Att   Pct   Yds  Avg  Yds/G  TD  Int\n",
       "0   107  166  45.3  1172  7.1  167.5  12    4\n",
       "1   238  353  47.3  2829  8.0  188.7  20    4\n",
       "2   207  347  41.9  2324  6.7  145.3  20    9\n",
       "3   252  392  44.9  2975  7.6  198.4  22   11\n",
       "4    66  119  38.9   760  6.4  152.0   4    4"
      ]
     },
     "execution_count": 25,
     "metadata": {},
     "output_type": "execute_result"
    }
   ],
   "source": [
    "# Import relevant libraries\n",
    "import pandas as pd\n",
    "from sklearn.cluster import KMeans\n",
    "import warnings\n",
    "warnings.filterwarnings('ignore')\n",
    "import pandas as pd\n",
    "import numpy as np\n",
    "import matplotlib.pyplot as plt\n",
    "import seaborn as sn\n",
    "%matplotlib inline\n",
    "\n",
    "# Read the excel file\n",
    "data = pd.read_excel(\"Football_Players.xlsx\")\n",
    "\n",
    "# Drop player before standardization\n",
    "df = data.drop(['Player'], axis=1)\n",
    "\n",
    "df.head()"
   ]
  },
  {
   "cell_type": "code",
   "execution_count": 26,
   "id": "3adc2526",
   "metadata": {},
   "outputs": [],
   "source": [
    "# Import the scaler and standardize the data\n",
    "from sklearn.preprocessing import StandardScaler\n",
    "scaler = StandardScaler()\n",
    "scaled_df = scaler.fit_transform(df)"
   ]
  },
  {
   "cell_type": "code",
   "execution_count": 27,
   "id": "4cbf36d4",
   "metadata": {},
   "outputs": [
    {
     "data": {
      "image/png": "[encoded data removed]",
      "text/plain": [
       "<Figure size 432x288 with 1 Axes>"
      ]
     },
     "metadata": {
      "needs_background": "light"
     },
     "output_type": "display_data"
    }
   ],
   "source": [
    "# Perform elbow analysis to see the best number of clusters for our data\n",
    "cluster_range = range( 1, 10 )\n",
    "cluster_errors = []\n",
    "for num_clusters in cluster_range:\n",
    "    clusters = KMeans( num_clusters )\n",
    "    clusters.fit( scaled_df )\n",
    "    cluster_errors.append( clusters.inertia_ )\n",
    "plt.figure(figsize=(6,4))\n",
    "plt.plot( cluster_range, cluster_errors, marker = \"o\" );\n",
    "plt.title( \"Fig : Elbow Diagram\");"
   ]
  },
  {
   "cell_type": "markdown",
   "id": "ecc76fa2",
   "metadata": {},
   "source": [
    "We can see that the optimal number of clusters is 3"
   ]
  },
  {
   "cell_type": "code",
   "execution_count": 28,
   "id": "0df7d467",
   "metadata": {},
   "outputs": [
    {
     "data": {
      "text/plain": [
       "clusterid\n",
       "0    13\n",
       "1    16\n",
       "2    14\n",
       "dtype: int64"
      ]
     },
     "execution_count": 28,
     "metadata": {},
     "output_type": "execute_result"
    }
   ],
   "source": [
    "# Perform KMeans clustering on the standardized data\n",
    "clusters = KMeans(3, random_state=10)\n",
    "clusters.fit(scaled_df)\n",
    "\n",
    "# Set the clusterid of each data entry\n",
    "df[\"clusterid\"] = clusters.labels_\n",
    "\n",
    "# Group the clusters by clusterId and get their respective size\n",
    "df.groupby([df.clusterid]).size()"
   ]
  },
  {
   "cell_type": "markdown",
   "id": "d16a60a1",
   "metadata": {},
   "source": [
    "Largest cluster is cluster.id = 1"
   ]
  },
  {
   "cell_type": "code",
   "execution_count": 29,
   "id": "38f31cda",
   "metadata": {},
   "outputs": [
    {
     "name": "stdout",
     "output_type": "stream",
     "text": [
      "Center point of cluster 1:  [-1.18192078 -1.19840939 -0.5581738  -1.15831412 -0.43900822 -0.56909111\n",
      " -1.02006765 -0.82023238]\n"
     ]
    }
   ],
   "source": [
    "# Print the center point of the largest cluster\n",
    "print('Center point of cluster 1: ', clusters.cluster_centers_[1])"
   ]
  },
  {
   "cell_type": "markdown",
   "id": "3ac92cae",
   "metadata": {},
   "source": [
    "# PART B"
   ]
  },
  {
   "cell_type": "code",
   "execution_count": null,
   "id": "ca458781",
   "metadata": {},
   "outputs": [],
   "source": [
    "# Import relevant libraries\n",
    "import pandas as pd\n",
    "from sklearn.cluster import KMeans\n",
    "import warnings\n",
    "warnings.filterwarnings('ignore')\n",
    "import pandas as pd\n",
    "import numpy as np\n",
    "import matplotlib.pyplot as plt\n",
    "import seaborn as sn\n",
    "%matplotlib inline\n",
    "\n",
    "# Read the data from the excel file\n",
    "data = pd.read_excel(\"Health_Population.xlsx\")\n",
    "data.head()"
   ]
  },
  {
   "cell_type": "code",
   "execution_count": null,
   "id": "9a18c703",
   "metadata": {},
   "outputs": [],
   "source": [
    "# Standardize the data \n",
    "from sklearn.preprocessing import StandardScaler\n",
    "scaler = StandardScaler()\n",
    "scaled_df = scaler.fit_transform( data[['Death Rate', 'Health Expend', 'Life Exp', 'Male Mortality', 'Female Mortality']] )"
   ]
  },
  {
   "cell_type": "markdown",
   "id": "2aee4a52",
   "metadata": {},
   "source": [
    "Data Standardization is important as some values are small while others are quite large. To avoid skewness we should standardize our data."
   ]
  },
  {
   "cell_type": "code",
   "execution_count": null,
   "id": "a31e899e",
   "metadata": {},
   "outputs": [],
   "source": [
    "# Perform elbow analysis to see the best number of clusters for our data\n",
    "cluster_range = range( 1, 10 )\n",
    "cluster_errors = []\n",
    "for num_clusters in cluster_range:\n",
    "    clusters = KMeans( num_clusters )\n",
    "    clusters.fit( scaled_df )\n",
    "    cluster_errors.append( clusters.inertia_ )\n",
    "plt.figure(figsize=(6,4))\n",
    "plt.plot( cluster_range, cluster_errors, marker = \"o\" );\n",
    "plt.title( \"Fig : Elbow Diagram\");"
   ]
  },
  {
   "cell_type": "markdown",
   "id": "b61603cd",
   "metadata": {},
   "source": [
    "Using the elbow method we can see that optimal clusters will be 3\n"
   ]
  },
  {
   "cell_type": "code",
   "execution_count": null,
   "id": "9e236cca",
   "metadata": {},
   "outputs": [],
   "source": [
    "# Perform KMeans clustering on the standardized data using our optimal clusters we obtaining elbow testing\n",
    "clusters = KMeans(3, random_state=10)\n",
    "clusters.fit(scaled_df)\n",
    "data[\"clusterid\"] = clusters.labels_\n",
    "\n",
    "# Group the clusters by size and print the size of each cluster\n",
    "data.groupby([data.clusterid]).size()"
   ]
  },
  {
   "cell_type": "markdown",
   "id": "76b34cf5",
   "metadata": {},
   "source": [
    "We can see that cluster with clusterID = 1 is the largest cluster"
   ]
  },
  {
   "cell_type": "code",
   "execution_count": null,
   "id": "b825ef8c",
   "metadata": {},
   "outputs": [],
   "source": [
    "# Print the largest cluster\n",
    "data[data.clusterid == 1]"
   ]
  },
  {
   "cell_type": "code",
   "execution_count": null,
   "id": "decb681a",
   "metadata": {},
   "outputs": [],
   "source": [
    "# Calculate the average GNI per capital for the largest cluster\n",
    "(data[data.clusterid == 1]['GNI']).mean()"
   ]
  },
  {
   "cell_type": "markdown",
   "id": "5ac3e9d0",
   "metadata": {},
   "source": [
    "# PART C"
   ]
  },
  {
   "cell_type": "code",
   "execution_count": null,
   "id": "d9adb28a",
   "metadata": {},
   "outputs": [],
   "source": [
    "# Import relevant library\n",
    "import pandas as pd\n",
    "\n",
    "# Read the data \n",
    "data = pd.read_excel(\"Sanjay.xlsx\")\n",
    "data.head()"
   ]
  },
  {
   "cell_type": "markdown",
   "id": "59860c67",
   "metadata": {},
   "source": [
    "Yes, Sanjay should standardize the data as some values are very big comparative to other values. If not standardized the results will be skewed. "
   ]
  },
  {
   "cell_type": "code",
   "execution_count": null,
   "id": "bfcf600e",
   "metadata": {},
   "outputs": [],
   "source": [
    "# Import the scaler and standardize the data\n",
    "from sklearn.preprocessing import StandardScaler\n",
    "scaler = StandardScaler()\n",
    "scaled_df = scaler.fit_transform( data[['Less than HS', 'HS', 'SC', 'Bachelor']] )"
   ]
  },
  {
   "cell_type": "code",
   "execution_count": null,
   "id": "3edabcba",
   "metadata": {},
   "outputs": [],
   "source": [
    "# Perform elbow analysis to get the optimal number of clusters\n",
    "from sklearn.cluster import KMeans\n",
    "import matplotlib.pyplot as plt\n",
    "\n",
    "cluster_range = range( 1, 10 )\n",
    "cluster_errors = []\n",
    "for num_clusters in cluster_range:\n",
    "    clusters = KMeans( num_clusters )\n",
    "    clusters.fit( scaled_df )\n",
    "    cluster_errors.append( clusters.inertia_ )\n",
    "plt.figure(figsize=(6,4))\n",
    "plt.plot( cluster_range, cluster_errors, marker = \"o\" );\n",
    "plt.title( \"Fig : Elbow Diagram\");"
   ]
  },
  {
   "cell_type": "markdown",
   "id": "0b289963",
   "metadata": {},
   "source": [
    "Using the elbow diagram we can see 3 to be optimal clusters "
   ]
  },
  {
   "cell_type": "code",
   "execution_count": null,
   "id": "4bd4e697",
   "metadata": {},
   "outputs": [],
   "source": [
    "# Import the Agglomerative Clustering and perform on our dataset\n",
    "\n",
    "from sklearn.cluster import AgglomerativeClustering\n",
    "clusters = AgglomerativeClustering( 3 )\n",
    "clusters.fit( scaled_df )\n",
    "\n",
    "# Add the clusterid to our data\n",
    "data[\"clusterid\"] = clusters.labels_\n",
    "\n",
    "# Group the clusters by clusterid and get the size of each cluster\n",
    "data.groupby([data.clusterid]).size()"
   ]
  },
  {
   "cell_type": "markdown",
   "id": "0db1cfc6",
   "metadata": {},
   "source": [
    "We can see by the sizes that clusterid = 1 is the largest cluster"
   ]
  },
  {
   "cell_type": "code",
   "execution_count": null,
   "id": "14bfb159",
   "metadata": {},
   "outputs": [],
   "source": [
    "# Plot the dendrogram of Sanjay's data\n",
    "import seaborn as sns\n",
    "\n",
    "cmap = sns.cubehelix_palette(as_cmap=True, rot=-.3, light=1)\n",
    "sns.clustermap(scaled_df, cmap=cmap, linewidths=.2,\n",
    "figsize = (8,8) );\n",
    "plt.title( \"Fig: Dendrogram of Sanjay's Dataset\");\n"
   ]
  },
  {
   "cell_type": "markdown",
   "id": "b6772b76",
   "metadata": {},
   "source": [
    "We can see from the dendrogram that data points 10 and 52 are very similar, we can say the same about 41 and 12. For the attribute Less than HS data points 8 and 37 are very close. Whereas 8 and 12 are very far away. "
   ]
  },
  {
   "cell_type": "code",
   "execution_count": null,
   "id": "3334bc2d",
   "metadata": {},
   "outputs": [],
   "source": [
    "# Print the largest cluster\n",
    "data[data.clusterid == 1]"
   ]
  },
  {
   "cell_type": "code",
   "execution_count": null,
   "id": "fca7ba57",
   "metadata": {},
   "outputs": [],
   "source": [
    "# Calculate the average median household income of the largest cluster of community areas\n",
    "data[data.clusterid == 1]['Income'].mean()"
   ]
  },
  {
   "cell_type": "markdown",
   "id": "cb22438e",
   "metadata": {},
   "source": [
    "# PART D"
   ]
  },
  {
   "cell_type": "code",
   "execution_count": null,
   "id": "0a7c59e3",
   "metadata": {},
   "outputs": [],
   "source": [
    "# Import relevant libraries\n",
    "import pandas as pd\n",
    "from sklearn.cluster import KMeans\n",
    "import warnings\n",
    "warnings.filterwarnings('ignore')\n",
    "import pandas as pd\n",
    "import numpy as np\n",
    "import matplotlib.pyplot as plt\n",
    "import seaborn as sn\n",
    "%matplotlib inline\n",
    "\n",
    "# Read the excel file\n",
    "data = pd.read_csv(\"covid19.csv\")\n",
    "data.head()\n",
    "\n",
    "# Clean the data by dropping the null values\n",
    "data = data.dropna()\n",
    "\n",
    "# Group the data by Combined_key\n",
    "df = data.groupby(['Combined_Key'])['Confirmed', 'Recovered', 'Deaths'].sum().reset_index()\n",
    "df.head()"
   ]
  },
  {
   "cell_type": "code",
   "execution_count": null,
   "id": "420d3b0b",
   "metadata": {},
   "outputs": [],
   "source": [
    "# Standardize the data \n",
    "from sklearn.preprocessing import StandardScaler\n",
    "scaler = StandardScaler()\n",
    "scaled_df = scaler.fit_transform( df[['Confirmed', 'Recovered', 'Deaths']] )"
   ]
  },
  {
   "cell_type": "code",
   "execution_count": null,
   "id": "33523243",
   "metadata": {},
   "outputs": [],
   "source": [
    "# Perform elbow analysis to get the optimal number of clusters\n",
    "from sklearn.cluster import KMeans\n",
    "import matplotlib.pyplot as plt\n",
    "\n",
    "cluster_range = range( 1, 10 )\n",
    "cluster_errors = []\n",
    "for num_clusters in cluster_range:\n",
    "    clusters = KMeans( num_clusters )\n",
    "    clusters.fit( scaled_df )\n",
    "    cluster_errors.append( clusters.inertia_ )\n",
    "plt.figure(figsize=(6,4))\n",
    "plt.plot( cluster_range, cluster_errors, marker = \"o\" );\n",
    "plt.title( \"Fig : Elbow Diagram\");"
   ]
  },
  {
   "cell_type": "markdown",
   "id": "85d8df8c",
   "metadata": {},
   "source": [
    "We can see the optimal clusters will be 2"
   ]
  },
  {
   "cell_type": "code",
   "execution_count": null,
   "id": "6dcd7182",
   "metadata": {},
   "outputs": [],
   "source": [
    "# Perform KMeans clustering on the standardized data using our optimal clusters we obtaining elbow testing\n",
    "clusters = KMeans(3, random_state=10)\n",
    "clusters.fit(scaled_df)\n",
    "df[\"clusterid\"] = clusters.labels_\n",
    "\n",
    "# Group the clusters by size and print the size of each cluster\n",
    "df.groupby([df.clusterid]).size()"
   ]
  },
  {
   "cell_type": "code",
   "execution_count": null,
   "id": "5a466188",
   "metadata": {},
   "outputs": [],
   "source": [
    "# Print the largest cluster\n",
    "df[df.clusterid == 0]"
   ]
  },
  {
   "cell_type": "code",
   "execution_count": null,
   "id": "bfd5089e",
   "metadata": {},
   "outputs": [],
   "source": [
    "df[df.clusterid == 1]"
   ]
  },
  {
   "cell_type": "code",
   "execution_count": null,
   "id": "16e94b41",
   "metadata": {},
   "outputs": [],
   "source": [
    "df[df.clusterid == 2]"
   ]
  },
  {
   "cell_type": "markdown",
   "id": "f0183733",
   "metadata": {},
   "source": [
    "We can see from the 3 clusters that clusterid == 2 and clusterid == 1 represent just a few data points. Upon further inspection we see that these data points are outliers in our data. Enteries with clusterid == 1 represent just 1 city  with very high confirmed cases and death tolls. Clusterid==2 represents enteries with very moderate number of confirmed and recovered cases. Clusterid == 0 has the all the other values which have low values of all 3 attributes."
   ]
  }
 ],
 "metadata": {
  "kernelspec": {
   "display_name": "Python 3",
   "language": "python",
   "name": "python3"
  },
  "language_info": {
   "codemirror_mode": {
    "name": "ipython",
    "version": 3
   },
   "file_extension": ".py",
   "mimetype": "text/x-python",
   "name": "python",
   "nbconvert_exporter": "python",
   "pygments_lexer": "ipython3",
   "version": "3.8.8"
  }
 },
 "nbformat": 4,
 "nbformat_minor": 5
}
